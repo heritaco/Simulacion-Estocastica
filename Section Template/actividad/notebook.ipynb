{
  "cells": [
    {
      "cell_type": "markdown",
      "id": "a922e28c",
      "metadata": {},
      "source": [
        "# Ejercicio 1"
      ]
    },
    {
      "cell_type": "markdown",
      "id": "08b9ee71",
      "metadata": {},
      "source": [
        "Queremos simular una variable aleatoria X con distribución discreta:\n",
        "\n",
        "$$\n",
        "P(X = k) = p_k,\\quad k\\in\\{1,2,3,4\\}.\n",
        "$$\n",
        "\n",
        "donde\n",
        "$$\n",
        "p_1=\\tfrac{1}{2},\\quad p_2=\\tfrac{1}{4},\\quad p_3=\\tfrac{1}{8},\\quad p_4=\\tfrac{1}{8}.\n",
        "$$"
      ]
    },
    {
      "cell_type": "markdown",
      "id": "3659dabf",
      "metadata": {},
      "source": [
        "## a) Distribución de referencia q(k)"
      ]
    },
    {
      "cell_type": "markdown",
      "id": "63683521",
      "metadata": {},
      "source": [
        "Proponga una distribución de referencia $q(k)$ sobre $\\{1, 2, 3, 4\\}$\n",
        "que sea fácil de simular."
      ]
    },
    {
      "cell_type": "markdown",
      "id": "2dd2711c",
      "metadata": {},
      "source": [
        "## b) Cota con constante c"
      ]
    },
    {
      "cell_type": "markdown",
      "id": "972d7358",
      "metadata": {},
      "source": [
        "Determine la constante $c$ tal que\n",
        "\n",
        "$$\n",
        "p_k \\le c\\, q(k),\\ \\forall k.\n",
        "$$"
      ]
    },
    {
      "cell_type": "markdown",
      "id": "9576cf84",
      "metadata": {},
      "source": [
        "## c) Algoritmo de aceptación–rechazo"
      ]
    },
    {
      "cell_type": "markdown",
      "id": "8d074c20",
      "metadata": {},
      "source": [
        "Describa el algoritmo de aceptación–rechazo para generar una\n",
        "realización de $X$."
      ]
    },
    {
      "cell_type": "markdown",
      "id": "73fd05fc",
      "metadata": {},
      "source": [
        "## d) Programa de simulación y estimación de c"
      ]
    },
    {
      "cell_type": "markdown",
      "id": "a2ef6e72",
      "metadata": {},
      "source": [
        "Elabore un programa de cómputo que simule la distribución anterior y compare el valor teórico de $c$ con un valor aproximado obtenido de las simulaciones."
      ]
    },
    {
      "cell_type": "markdown",
      "id": "b7fe4e35",
      "metadata": {},
      "source": [
        "# Ejercicio 2"
      ]
    },
    {
      "cell_type": "markdown",
      "id": "5ecf6243",
      "metadata": {},
      "source": [
        "## Simulación $\\text{Beta}(1, 2,3)$ por aceptación–rechazo"
      ]
    },
    {
      "cell_type": "markdown",
      "id": "a2bcb84e",
      "metadata": {},
      "source": [
        "Utilice el método de aceptación y rechazo para simular una variable\n",
        "aleatoria con distribución $\\text{Beta}(1, 2,3)$. Elabore un programa de cómputo\n",
        "que genere simulaciones de esta variable y compare resultados con\n",
        "la densidad teórica."
      ]
    },
    {
      "cell_type": "markdown",
      "id": "3f1cf46e",
      "metadata": {},
      "source": [
        "# Ejercicio 3"
      ]
    },
    {
      "cell_type": "markdown",
      "id": "5d93f7b8",
      "metadata": {},
      "source": [
        "Considere la siguiente función de distribución acumulada\n",
        "\n",
        "$$\n",
        "F(x) = x^{n},\\quad 0 \\le x \\le 1.\n",
        "$$"
      ]
    },
    {
      "cell_type": "markdown",
      "id": "469e8eff",
      "metadata": {},
      "source": [
        "## a) Método de la transformada inversa"
      ]
    },
    {
      "cell_type": "markdown",
      "id": "24cd0d2b",
      "metadata": {},
      "source": [
        "Aplique el método de la transformada inversa para dar un algoritmo que simule una variable aleatoria con la función de distribución anterior."
      ]
    },
    {
      "cell_type": "markdown",
      "id": "89ce9ed6",
      "metadata": {},
      "source": [
        "## b) Método de aceptación–rechazo"
      ]
    },
    {
      "cell_type": "markdown",
      "id": "1b72fb78",
      "metadata": {},
      "source": [
        "Aplique el método de aceptación y rechazo para el mismo caso."
      ]
    },
    {
      "cell_type": "markdown",
      "id": "c7844a90",
      "metadata": {},
      "source": [
        "## c) Implementación computacional"
      ]
    },
    {
      "cell_type": "markdown",
      "id": "689c673f",
      "metadata": {},
      "source": [
        "Elabore un programa de cómputo para implementar ambos algoritmos."
      ]
    },
    {
      "cell_type": "markdown",
      "id": "d54520ca",
      "metadata": {},
      "source": [
        "## d) Eficiencia comparada"
      ]
    },
    {
      "cell_type": "markdown",
      "id": "70824570",
      "metadata": {},
      "source": [
        "Compare la eficiencia de ambos métodos y justifique cuál es más\n",
        "recomendable."
      ]
    },
    {
      "cell_type": "markdown",
      "id": "484108b9",
      "metadata": {},
      "source": [
        "# Ejercicio 4"
      ]
    },
    {
      "cell_type": "markdown",
      "id": "7cf33dda",
      "metadata": {},
      "source": [
        "En el contexto del método de aceptación y rechazo para generar valores de la distribución $\\mathcal{N}(\\mu, \\sigma^{2})$, demuestre directamente los siguientes resultados:"
      ]
    },
    {
      "cell_type": "markdown",
      "id": "bc9bb9b6",
      "metadata": {},
      "source": [
        "## a) Densidad de |Z| para Z∼N(0,1)"
      ]
    },
    {
      "cell_type": "markdown",
      "id": "b9685ad7",
      "metadata": {},
      "source": [
        "Si $Z \\sim \\mathcal{N}(0,1)$, entonces $|Z|$ tiene función de densidad\n",
        "\n",
        "$$\n",
        "f_{|Z|}(x) = \\sqrt{\\tfrac{2}{\\pi}}\\, e^{-x^{2}/2}, \\qquad x > 0.\n",
        "$$"
      ]
    },
    {
      "cell_type": "markdown",
      "id": "68dbc0fb",
      "metadata": {},
      "source": [
        "## b) Simetrización con S·|Z|"
      ]
    },
    {
      "cell_type": "markdown",
      "id": "d88a56b6",
      "metadata": {},
      "source": [
        "Si $S \\sim \\text{Unif}\\{+1,-1\\}$ es independiente de $|Z|$ (con $Z$ como en (a)),\n",
        "entonces $S\\,|Z| \\sim \\mathcal{N}(0,1)$."
      ]
    },
    {
      "cell_type": "markdown",
      "id": "c49aca22",
      "metadata": {},
      "source": [
        "## c) Evento de aceptación con X∼Exp(1) y U∼Unif(0,1)"
      ]
    },
    {
      "cell_type": "markdown",
      "id": "f8c8a8a4",
      "metadata": {},
      "source": [
        "Sea $X \\sim \\text{Exp}(\\lambda)$ con $\\lambda = 1$ y $U \\sim \\text{Unif}(0,1)$ independientes.\n",
        "Considere el evento\n",
        "\n",
        "$$\n",
        "\\big\\{ U \\le \\exp\\big(-\\tfrac{(X-1)^{2}}{2}\\big) \\big\\}.\n",
        "$$\n",
        "\n",
        "\n",
        "Entonces, la distribución de $X$ condicionada a este evento tiene\n",
        "densidad\n",
        "\n",
        "$$\n",
        "f(x) = \\sqrt{\\tfrac{2}{\\pi}}\\, e^{-x^{2}/2}, \\qquad x > 0,\n",
        "$$\n",
        "\n",
        "la cual corresponde a la densidad del valor absoluto de una normal\n",
        "estándar $Z \\sim \\mathcal{N}(0,1)$."
      ]
    },
    {
      "cell_type": "markdown",
      "id": "1837414b",
      "metadata": {},
      "source": [
        "## d) Probabilidad con V1,V2∼Exp(1)"
      ]
    },
    {
      "cell_type": "markdown",
      "id": "b948d646",
      "metadata": {},
      "source": [
        "Sean $V_1$ y $V_2$ variables aleatorias independientes e idénticamente\n",
        "distribuidas como $\\text{Exp}(\\lambda)$ con $\\lambda = 1$. Entonces se cumple que\n",
        "\n",
        "$$\n",
        "\\mathbb{P}\\!\\left( V_{1} \\ge \\tfrac{(V_{2}-1)^{2}}{2} \\right)\n",
        "= \\sqrt{\\tfrac{\\pi}{2e}}\\,.\n",
        "$$"
      ]
    },
    {
      "cell_type": "markdown",
      "id": "f5cbe8ad",
      "metadata": {},
      "source": [
        "# Ejercicio 5"
      ]
    },
    {
      "cell_type": "markdown",
      "id": "c875d09c",
      "metadata": {},
      "source": [
        "Implemente un algoritmo de simulación para la distribución $\\text{Gamma}$\n",
        "con los siguientes parámetros:"
      ]
    },
    {
      "cell_type": "markdown",
      "id": "26a8c346",
      "metadata": {},
      "source": [
        "## a) $\\text{Gamma}(1.5, 3)$"
      ]
    },
    {
      "cell_type": "markdown",
      "id": "dd59a908",
      "metadata": {},
      "source": [
        "$$\n",
        "\\text{Gamma}(1.5, 3)\n",
        "$$"
      ]
    },
    {
      "cell_type": "markdown",
      "id": "65c3dca7",
      "metadata": {},
      "source": [
        "## b) $\\text{Gamma}(0.5, 6)$"
      ]
    },
    {
      "cell_type": "markdown",
      "id": "90aa2f34",
      "metadata": {},
      "source": [
        "$$\n",
        "\\text{Gamma}(0.5, 6)\n",
        "$$"
      ]
    },
    {
      "cell_type": "markdown",
      "id": "183f42ae",
      "metadata": {},
      "source": [
        "Elabore un programa de cómputo que genere simulaciones de ambas\n",
        "distribuciones y compare los resultados empíricos con las densidades\n",
        "teóricas correspondientes."
      ]
    }
  ],
  "metadata": {
    "kernelspec": {
      "display_name": "Python 3",
      "language": "python",
      "name": "python3"
    },
    "language_info": {
      "file_extension": ".py",
      "mimetype": "text/x-python",
      "name": "python",
      "version": "3.11.8"
    }
  },
  "nbformat": 4,
  "nbformat_minor": 5
}
