{
 "cells": [
  {
   "cell_type": "markdown",
   "id": "92ed00d0",
   "metadata": {},
   "source": [
    "Una asintota es una recta que se aproxima a una curva en un punto dado, pero que nunca la intersecta. En el contexto de funciones matemáticas, las asintotas pueden ser verticales, horizontales o inclinadas, y se utilizan para describir el comportamiento de la función en los extremos de su dominio o en puntos de discontinuidad."
   ]
  }
 ],
 "metadata": {
  "language_info": {
   "name": "python"
  }
 },
 "nbformat": 4,
 "nbformat_minor": 5
}
