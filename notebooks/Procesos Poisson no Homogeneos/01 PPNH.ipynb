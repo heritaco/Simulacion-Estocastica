{
 "cells": [
  {
   "cell_type": "markdown",
   "id": "16ae4c91",
   "metadata": {},
   "source": [
    "Son procesos de conteo y de saltos. Definiciones mínimas:\n",
    "\n",
    "* **Poisson homogéneo (PPH)**: proceso de conteo $N(t)$ con incrementos independientes y estacionarios.\n",
    "  $\\Pr\\{N(t)-N(s)=k\\}=\\dfrac{(\\lambda (t-s))^k}{k!}e^{-\\lambda (t-s)}$.\n",
    "  Interarribos i.i.d. $\\mathrm{Exp}(\\lambda)$.\n",
    "\n",
    "* **Poisson no homogéneo (PPNH)**: mismo $N(t)$ pero con tasa instantánea $\\lambda(t)$.\n",
    "  $\\Lambda(t)=\\int_0^t\\lambda(u)\\,du$, $\\Pr\\{N(t)-N(s)=k\\}=\\dfrac{(\\Lambda(t)-\\Lambda(s))^k}{k!}e^{-(\\Lambda(t)-\\Lambda(s))}$.\n",
    "  Tiempo-cambio: $N(t)\\stackrel{d}{=}\\tilde N(\\Lambda(t))$ con $\\tilde N\\sim$ PPH de tasa 1.\n",
    "\n",
    "* **Poisson compuesto**: proceso de **saltos** con tamaños aleatorios.\n",
    "  $X(t)=\\sum_{i=1}^{N(t)}Y_i$, con $N(t)$ Poisson (tasa $\\lambda$ si homogéneo) y $Y_i$ i.i.d. independientes de $N$.\n",
    "  $\\mathbb{E}[X(t)]=\\lambda t\\,\\mathbb{E}[Y]$, $\\operatorname{Var}[X(t)]=\\lambda t\\,\\mathbb{E}[Y^2]$.\n",
    "\n",
    "* **Poisson compuesto no homogéneo**: igual pero $N(t)$ es PPNH.\n",
    "  $\\mathbb{E}[X(t)]=\\Lambda(t)\\mathbb{E}[Y]$, $\\operatorname{Var}[X(t)]=\\Lambda(t)\\mathbb{E}[Y^2]$.\n",
    "\n",
    "* **Proceso de Cox (Poisson doblemente estocástico)**: la tasa $\\lambda(t)$ es aleatoria.\n",
    "  Condicionado en $\\lambda(\\cdot)$, $N$ es PPNH. No condicionado, los incrementos son mezcla de Poisson.\n",
    "\n",
    "* **Poisson marcado**: cada arribo lleva una “marca” $M_i$. El Poisson compuesto es el caso con marca $Y_i$ “tamaño de salto”.\n",
    "\n",
    "* **Salto**: en un proceso de saltos $X$, $\\Delta X(t)=X(t)-X(t^-)>0$. En $N(t)$ siempre $\\Delta N(t)\\in\\{0,1\\}$; en el compuesto, $\\Delta X(t)=Y_i$.\n",
    "\n",
    "Ejemplos canónicos: llegadas de eventos con intensidad variable en el día (PPNH); número y tamaño de siniestros en seguros (Poisson compuesto); intensidad que fluctúa con un factor latente macro (Cox).\n"
   ]
  }
 ],
 "metadata": {
  "language_info": {
   "name": "python"
  }
 },
 "nbformat": 4,
 "nbformat_minor": 5
}
