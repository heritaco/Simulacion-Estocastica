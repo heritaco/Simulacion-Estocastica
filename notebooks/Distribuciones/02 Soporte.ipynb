{
 "cells": [
  {
   "cell_type": "markdown",
   "id": "ab8b05d3",
   "metadata": {},
   "source": [
    "# Por que se dice soporte y no dominio en distribuciones?\n",
    "\n",
    "El **soporte** de una distribución se refiere al conjunto de valores donde la función de probabilidad (o densidad) es positiva. En otras palabras, es el conjunto de resultados posibles que tienen una probabilidad no nula de ocurrir.\n",
    "\n",
    "Por otro lado, el **dominio** de una función es el conjunto de todos los posibles valores de entrada (o \"x\") para los cuales la función está definida. En el contexto de distribuciones, el dominio puede ser más amplio que el soporte, ya que puede incluir valores donde la función de probabilidad es cero.\n",
    "\n",
    "En resumen, el soporte es un subconjunto del dominio que se centra en los valores relevantes para la distribución, mientras que el dominio abarca todos los valores posibles, independientemente de su relevancia probabilística.\n",
    "\n",
    "\n",
    "## Ejemplos\n",
    "\n",
    "* Distribución Normal: Soporte en $\\mathbb{R}$, dominio en $\\mathbb{R}$.\n",
    "* Distribución Binomial: Soporte en $\\{0, 1, \\ldots, n\\}$, dominio en $\\mathbb{R}$.\n",
    "* Distribución Uniforme: Soporte en $[a, b]$, dominio en $\\mathbb{R}$.  "
   ]
  }
 ],
 "metadata": {
  "language_info": {
   "name": "python"
  }
 },
 "nbformat": 4,
 "nbformat_minor": 5
}
