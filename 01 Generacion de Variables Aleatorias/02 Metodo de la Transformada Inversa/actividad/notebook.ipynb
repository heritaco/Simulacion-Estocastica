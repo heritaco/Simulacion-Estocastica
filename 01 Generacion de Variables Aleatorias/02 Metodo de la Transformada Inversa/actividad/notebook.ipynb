{
 "cells": [
  {
   "cell_type": "code",
   "execution_count": 1,
   "id": "bdcdb081",
   "metadata": {},
   "outputs": [],
   "source": [
    "import math\n",
    "import random\n",
    "from collections import Counter\n",
    "\n",
    "import numpy as np\n",
    "import matplotlib.pyplot as plt\n",
    "import seaborn as sns"
   ]
  },
  {
   "cell_type": "code",
   "execution_count": 2,
   "id": "3774aa3b",
   "metadata": {},
   "outputs": [],
   "source": [
    "color = sns.color_palette(\"muted\")\n",
    "np.random.shuffle(color)\n",
    "sns.set(style=\"whitegrid\", context=\"paper\", palette=color)\n",
    "\n",
    "import matplotlib as mpl\n",
    "mpl.rcParams.update({\n",
    "    \"text.usetex\": True,          # route all text through LaTeX\n",
    "    \"pgf.texsystem\": \"xelatex\",  \n",
    "    \"pgf.rcfonts\": False,         # do not override with mpl fonts\n",
    "    \"font.family\": \"serif\",\n",
    "    \"text.latex.preamble\": r\"\"\"\n",
    "\\usepackage{libertinust1math}\n",
    "\"\"\",\n",
    "})"
   ]
  },
  {
   "cell_type": "markdown",
   "id": "9c12d3b2",
   "metadata": {},
   "source": [
    "# 1. Distribución Uniforme $(a,b)$"
   ]
  },
  {
   "cell_type": "markdown",
   "id": "370ca782",
   "metadata": {},
   "source": [
    "Sea **$U\\sim\\mathrm{Unif}(0,1)$**. Si $X\\sim\\mathrm{Unif}(a,b)$, entonces su funcion de distribucion acumulada es:\n",
    "\n",
    "$$\n",
    "F_X(x)=\\frac{x-a}{b-a}\\,\\mathbf{1}_{[a,b]}(x) + \\mathbf{1}_{(b,\\infty)}(x)\n",
    "$$\n",
    "\n",
    "Encontrando la inversa:\n",
    "\n",
    "$$\n",
    "\\begin{aligned}\n",
    "F_X(x)=u &\\quad\\iff\\quad \\frac{x-a}{b-a}=u,\\\\\n",
    "         &\\quad\\iff\\quad x-a=(b-a)\\,u,\\\\\n",
    "         &\\quad\\iff\\quad x=a+(b-a)\\,u.\n",
    "\\end{aligned}\n",
    "$$\n",
    "\n",
    "Entonces:\n",
    "\n",
    "$$\n",
    "F_X^{-1}(u)=a+(b-a)\\,u.\n",
    "$$\n"
   ]
  },
  {
   "cell_type": "markdown",
   "id": "579f89ad",
   "metadata": {},
   "source": [
    "# 2. Distribución Discreta"
   ]
  },
  {
   "cell_type": "markdown",
   "id": "66286dc1",
   "metadata": {},
   "source": [
    "## a) Gráfica de $f_X(x)$"
   ]
  },
  {
   "cell_type": "markdown",
   "id": "ba92a600",
   "metadata": {},
   "source": [
    "$$\n",
    "f_X(x)=\\mathbb P(X = x)=\n",
    "\\begin{cases}\n",
    "0.4,& x =1,\\\\\n",
    "0.3,& x =2,\\\\\n",
    "0.2,& x =3,\\\\\n",
    "0.1,& x =4,\\\\\n",
    "0,& \\text{en otro caso}\n",
    "\\end{cases}\n",
    "$$"
   ]
  },
  {
   "cell_type": "code",
   "execution_count": 3,
   "id": "3370d74e",
   "metadata": {},
   "outputs": [
    {
     "data": {
      "image/png": "[encoded data removed]",
      "text/plain": [
       "<Figure size 640x480 with 1 Axes>"
      ]
     },
     "metadata": {},
     "output_type": "display_data"
    }
   ],
   "source": [
    "x_vals = [1, 2, 3, 4]\n",
    "pmf = [0.4, 0.3, 0.2, 0.1]\n",
    "\n",
    "plt.vlines(x_vals, 0, pmf, linestyles='--')\n",
    "plt.plot(x_vals, pmf, 'o')\n",
    "plt.xlabel('$X$')\n",
    "plt.ylabel('$f_X(x)$')\n",
    "plt.show()"
   ]
  },
  {
   "cell_type": "markdown",
   "id": "a122ee29",
   "metadata": {},
   "source": [
    "## b) Gráfica de $F_X(x)$"
   ]
  },
  {
   "cell_type": "markdown",
   "id": "a4e1d64c",
   "metadata": {},
   "source": [
    "\n",
    "$$\n",
    "F_X(x)=\\mathbb P(X\\le x)=\n",
    "\\begin{cases}\n",
    "0,& x<1,\\\\\n",
    "0.4,& 1\\le x<2,\\\\\n",
    "0.7,& 2\\le x<3,\\\\\n",
    "0.9,& 3\\le x<4,\\\\\n",
    "1,& x\\ge 4.\n",
    "\\end{cases}\n",
    "$$\n"
   ]
  },
  {
   "cell_type": "code",
   "execution_count": 4,
   "id": "f04d2d91",
   "metadata": {},
   "outputs": [
    {
     "data": {
      "image/png": "[encoded data removed]",
      "text/plain": [
       "<Figure size 640x480 with 1 Axes>"
      ]
     },
     "metadata": {},
     "output_type": "display_data"
    }
   ],
   "source": [
    "x_cdf = [-1, 1, 2, 3, 4, 5]\n",
    "F_cdf = [0, 0.4, 0.7, 0.9, 1, 1]\n",
    "\n",
    "plt.step(x_cdf, F_cdf, where='post')\n",
    "plt.xlabel('x')\n",
    "plt.ylabel('$F_X(x)$')\n",
    "plt.show()"
   ]
  },
  {
   "cell_type": "markdown",
   "id": "eccee992",
   "metadata": {},
   "source": [
    "## c) Gráfica de $F^{-1}_X(u)$"
   ]
  },
  {
   "cell_type": "markdown",
   "id": "94cbd904",
   "metadata": {},
   "source": [
    "Sea **$U\\sim\\mathrm{Unif}(0,1)$**.\n",
    "\n",
    "\n",
    "$$\n",
    "\\begin{aligned}\n",
    "F_X(x)=u \n",
    "&\\;\\iff\\; u\\in(0,0.4] \\;\\Rightarrow\\; x=1,\\\\\n",
    "&\\;\\iff\\; u\\in(0.4,0.7] \\;\\Rightarrow\\; x=2,\\\\\n",
    "&\\;\\iff\\; u\\in(0.7,0.9] \\;\\Rightarrow\\; x=3,\\\\\n",
    "&\\;\\iff\\; u\\in(0.9,1] \\;\\Rightarrow\\; x=4.\n",
    "\\end{aligned}\n",
    "$$\n",
    "\n",
    "Entonces:\n",
    "\n",
    "$$\n",
    "F_X^{-1}(u)=\n",
    "\\begin{cases}\n",
    "1,& 0<u\\le 0.4,\\\\\n",
    "2,& 0.4<u\\le 0.7,\\\\\n",
    "3,& 0.7<u\\le 0.9,\\\\\n",
    "4,& 0.9<u\\le 1.\n",
    "\\end{cases}\n",
    "$$\n"
   ]
  },
  {
   "cell_type": "code",
   "execution_count": 5,
   "id": "0085775f",
   "metadata": {},
   "outputs": [
    {
     "data": {
      "image/png": "[encoded data removed]",
      "text/plain": [
       "<Figure size 640x480 with 1 Axes>"
      ]
     },
     "metadata": {},
     "output_type": "display_data"
    }
   ],
   "source": [
    "u_vals = [0, 0, 0.4, 0.7, 0.9, 1]\n",
    "F_inv_vals = [-1, 1, 2, 3, 4, 5]\n",
    "\n",
    "plt.step(u_vals, F_inv_vals, where=\"post\")\n",
    "plt.xlabel(\"u\")\n",
    "plt.ylabel(\"$F_X^{-1}(u)$\")\n",
    "plt.show()"
   ]
  },
  {
   "cell_type": "markdown",
   "id": "1cac1c8c",
   "metadata": {},
   "source": [
    "## d) Programa"
   ]
  },
  {
   "cell_type": "code",
   "execution_count": 6,
   "id": "c2468c74",
   "metadata": {},
   "outputs": [],
   "source": [
    "def F_inv(u):\n",
    "    if u <= 0.4:\n",
    "        return 1\n",
    "    elif u <= 0.7:\n",
    "        return 2\n",
    "    elif u <= 0.9:\n",
    "        return 3\n",
    "    else:\n",
    "        return 4\n",
    "\n",
    "u_samples = np.random.uniform(0, 1, 500)\n",
    "x_samples = [F_inv(u) for u in u_samples]"
   ]
  },
  {
   "cell_type": "markdown",
   "id": "41f72578",
   "metadata": {},
   "source": [
    "## e) Histograma"
   ]
  },
  {
   "cell_type": "code",
   "execution_count": 7,
   "id": "1c9b9fc5",
   "metadata": {},
   "outputs": [
    {
     "data": {
      "image/png": "[encoded data removed]",
      "text/plain": [
       "<Figure size 640x480 with 1 Axes>"
      ]
     },
     "metadata": {},
     "output_type": "display_data"
    }
   ],
   "source": [
    "plt.hist(x_samples, bins=np.arange(0.5, 5.5, 1), density=True, alpha=0.3)\n",
    "plt.vlines(x_vals, 0, pmf, linestyles='--', color=color[1])\n",
    "plt.plot(x_vals, pmf, 'o', color=color[1])\n",
    "plt.xlabel(\"$X$\")\n",
    "plt.ylabel(\"Densidad\")\n",
    "plt.title(\"Histograma de la Variable Aleatoria X a partir de $F_X^{-1}(u)$\")\n",
    "plt.show()"
   ]
  },
  {
   "cell_type": "markdown",
   "id": "0a9d9ba6",
   "metadata": {},
   "source": [
    "# 3. Exponencial $\\mathrm{Exp}(\\lambda)$"
   ]
  },
  {
   "cell_type": "markdown",
   "id": "555736ac",
   "metadata": {},
   "source": [
    "Sea **$U\\sim\\mathrm{Unif}(0,1)$**. Si $X\\sim\\mathrm{Exp}(\\lambda)$, entonces su funcion de distribucion acumulada es:\n",
    "\n",
    "$$\n",
    "F_X(x)=\\bigl(1-e^{-\\lambda x}\\bigr)\\,\\mathbf{1}_{[0,\\infty)}(x)\n",
    "$$\n",
    "\n",
    "Encontrando la inversa:\n",
    "\n",
    "$$\n",
    "\\begin{aligned}\n",
    "F_X(x)=u &\\;\\iff\\; 1-e^{-\\lambda x}=u,\\\\\n",
    "         &\\;\\iff\\; e^{-\\lambda x}=1-u,\\\\\n",
    "         &\\;\\iff\\; -\\lambda x=\\ln(1-u),\\\\\n",
    "         &\\;\\iff\\; x=-\\frac{1}{\\lambda}\\,\\ln(1-u).\n",
    "\\end{aligned}\n",
    "$$\n",
    "\n",
    "Entonces:\n",
    "\n",
    "$$\n",
    "F_X^{-1}(u)=-\\frac{1}{\\lambda}\\,\\ln(1-u).\n",
    "$$\n",
    "\n",
    "Por lo tanto, con $U\\sim\\mathrm{Unif}(0,1)$,\n",
    "\n",
    "$$\n",
    "X=F_X^{-1}(U)=-\\frac{1}{\\lambda}\\ln(1-U)\\sim\\mathrm{Exp}(\\lambda).\n",
    "$$\n"
   ]
  },
  {
   "cell_type": "markdown",
   "id": "736a8aac",
   "metadata": {},
   "source": [
    "# 4. Weibull $(r,\\lambda)$"
   ]
  },
  {
   "cell_type": "markdown",
   "id": "efe4791d",
   "metadata": {},
   "source": [
    "Sea **$U\\sim\\mathrm{Unif}(0,1)$**, con $r>0$ y $\\lambda>0$. Si $X\\sim\\mathrm{Weibull}(r,\\lambda)$, entonces su función de distribución acumulada es:\n",
    "\n",
    "$$\n",
    "F_X(x)=\\bigl(1-e^{-(\\lambda x)^r}\\bigr)\\,\\mathbf{1}_{[0,\\infty)}(x)\n",
    "$$\n",
    "\n",
    "Encontrando la inversa:\n",
    "\n",
    "$$\n",
    "\\begin{aligned}\n",
    "F_X(x)=u &\\;\\iff\\; 1-e^{-(\\lambda x)^r}=u,\\\\\n",
    "         &\\;\\iff\\; e^{-(\\lambda x)^r}=1-u,\\\\\n",
    "         &\\;\\iff\\; -(\\lambda x)^r=\\ln(1-u),\\\\\n",
    "         &\\;\\iff\\; (\\lambda x)^r=-\\ln(1-u),\\\\\n",
    "         &\\;\\iff\\; x=\\frac{1}{\\lambda}\\,\\bigl[-\\ln(1-u)\\bigr]^{1/r}.\n",
    "\\end{aligned}\n",
    "$$\n",
    "\n",
    "Entonces:\n",
    "\n",
    "$$\n",
    "F_X^{-1}(u)=\\frac{1}{\\lambda}\\,\\bigl[-\\ln(1-u)\\bigr]^{1/r}.\n",
    "$$\n",
    "\n",
    "Por lo tanto, con $U\\sim\\mathrm{Unif}(0,1)$:\n",
    "\n",
    "$$\n",
    "X=F_X^{-1}(U)=\\frac{1}{\\lambda}\\,\\bigl[-\\ln(1-U)\\bigr]^{1/r}\\sim\\mathrm{Weibull}(r,\\lambda).\n",
    "$$\n"
   ]
  },
  {
   "cell_type": "markdown",
   "id": "66abf4e8",
   "metadata": {},
   "source": [
    "# 5. Cauchy $(a,b)$"
   ]
  },
  {
   "cell_type": "markdown",
   "id": "ab7ce9d1",
   "metadata": {},
   "source": [
    "Sea **$U\\sim\\mathrm{Unif}(0,1)$**. Si $X\\sim\\mathrm{Cauchy}(a,b)$, entonces su función de distribución acumulada es:\n",
    "\n",
    "$$\n",
    "F_X(x)=\\frac{1}{\\pi}\\arctan\\!\\Big(\\frac{x-a}{b}\\Big)+\\frac{1}{2},\\qquad x\\in\\mathbb{R},\\; b>0.\n",
    "$$\n",
    "\n",
    "Encontrando la inversa:\n",
    "\n",
    "$$\n",
    "\\begin{aligned}\n",
    "F_X(x)=u \n",
    "&\\;\\iff\\; \\frac{1}{\\pi}\\arctan\\!\\Big(\\frac{x-a}{b}\\Big)+\\frac{1}{2}=u,\\\\\n",
    "&\\;\\iff\\; \\arctan\\!\\Big(\\frac{x-a}{b}\\Big)=\\pi\\!\\left(u-\\tfrac{1}{2}\\right),\\\\\n",
    "&\\;\\iff\\; \\frac{x-a}{b}=\\tan\\!\\big(\\pi(u-\\tfrac{1}{2})\\big),\\\\\n",
    "&\\;\\iff\\; x=a+b\\,\\tan\\!\\big(\\pi(u-\\tfrac{1}{2})\\big).\n",
    "\\end{aligned}\n",
    "$$\n",
    "\n",
    "Entonces:\n",
    "\n",
    "$$\n",
    "F_X^{-1}(u)=a+b\\,\\tan\\!\\big(\\pi(u-\\tfrac{1}{2})\\big).\n",
    "$$\n",
    "\n",
    "Por lo tanto, $X=F_X^{-1}(U)=a+b\\,\\tan(\\pi(U-\\tfrac{1}{2}))\\sim\\mathrm{Cauchy}(a,b)$.\n"
   ]
  },
  {
   "cell_type": "markdown",
   "id": "b73bfe97",
   "metadata": {},
   "source": [
    "# 6. Pareto I $(a,b)$"
   ]
  },
  {
   "cell_type": "markdown",
   "id": "469455de",
   "metadata": {},
   "source": [
    "Sea **$U\\sim\\mathrm{Unif}(0,1)$**, con $a>0$ y $b>0$. Si $X\\sim\\mathrm{Pareto\\ I}(a,b)$, entonces su función de distribución acumulada es:\n",
    "\n",
    "$$\n",
    "F_X(x)=\\bigl(1-(b/x)^a\\bigr)\\,\\mathbf{1}_{[b,\\infty)}(x)\n",
    "$$\n",
    "\n",
    "Encontrando la inversa:\n",
    "\n",
    "$$\n",
    "\\begin{aligned}\n",
    "F_X(x)=u &\\;\\iff\\; 1-\\left(\\frac{b}{x}\\right)^a=u,\\\\\n",
    "         &\\;\\iff\\; \\left(\\frac{b}{x}\\right)^a=1-u,\\\\\n",
    "         &\\;\\iff\\; \\frac{b}{x}=(1-u)^{1/a},\\\\\n",
    "         &\\;\\iff\\; x=b\\,(1-u)^{-1/a}.\n",
    "\\end{aligned}\n",
    "$$\n",
    "\n",
    "Entonces:\n",
    "\n",
    "$$\n",
    "F_X^{-1}(u)=b\\,(1-u)^{-1/a}.\n",
    "$$\n",
    "\n",
    "Por lo tanto,\n",
    "\n",
    "$$\n",
    "X=F_X^{-1}(U)=b\\,(1-U)^{-1/a}\\sim\\mathrm{Pareto\\ I}(a,b).\n",
    "$$\n"
   ]
  },
  {
   "cell_type": "markdown",
   "id": "d8155612",
   "metadata": {},
   "source": [
    "# 7. Mínimo $X_{(1)}=\\min\\{X_1,\\dots,X_n\\}$ "
   ]
  },
  {
   "cell_type": "markdown",
   "id": "44fccc87",
   "metadata": {},
   "source": [
    "Sea **$U\\sim\\mathrm{Unif}(0,1)$** y $X_{(1)}:=\\min\\{X_1,\\dots,X_n\\}$ con $X_i$ i.i.d. de CDF $F$.\n",
    "\n",
    "$$\n",
    "F_{X_{(1)}}(x)=\\mathbb P(X_{(1)}\\le x)\n",
    "=1-\\mathbb P(X_1>x,\\dots,X_n>x)\n",
    "=1-\\bigl(1-F(x)\\bigr)^n.\n",
    "$$\n",
    "\n",
    "**Encontrando la inversa:**\n",
    "\n",
    "$$\n",
    "\\begin{aligned}\n",
    "F_{X_{(1)}}(x)=u \n",
    "&\\;\\iff\\; 1-\\bigl(1-F(x)\\bigr)^n=u,\\\\\n",
    "&\\;\\iff\\; \\bigl(1-F(x)\\bigr)^n=1-u,\\\\\n",
    "&\\;\\iff\\; 1-F(x)=(1-u)^{1/n},\\\\\n",
    "&\\;\\iff\\; F(x)=1-(1-u)^{1/n},\\\\\n",
    "&\\;\\iff\\; x=F^{-1}\\!\\bigl(1-(1-u)^{1/n}\\bigr).\n",
    "\\end{aligned}\n",
    "$$\n",
    "\n",
    "Entonces:\n",
    "\n",
    "$$\n",
    "F_{X_{(1)}}^{-1}(u)=F^{-1}\\!\\bigl(1-(1-u)^{1/n}\\bigr),\\quad 0<u<1.\n",
    "$$"
   ]
  },
  {
   "cell_type": "markdown",
   "id": "8f737bd4",
   "metadata": {},
   "source": [
    "# 8. Mixta $X=\\min\\{Y,M\\}$ con $Y\\sim\\mathrm{Exp}(\\lambda)$"
   ]
  },
  {
   "cell_type": "markdown",
   "id": "d801458a",
   "metadata": {},
   "source": [
    "Sea con $U\\sim\\mathrm{Unif}(0,1)$,\n",
    "\n",
    "$$\n",
    "X=F_X^{-1}(U)=-\\frac{1}{\\lambda}\\ln(1-U)\\sim\\mathrm{Exp}(\\lambda).\n",
    "$$"
   ]
  },
  {
   "cell_type": "code",
   "execution_count": 8,
   "id": "5082a3c0",
   "metadata": {},
   "outputs": [],
   "source": [
    "def cdf_exp(lam, x):\n",
    "    return 1.0 - np.exp(-lam * x)\n",
    "\n",
    "def inv_exp(lam, u):\n",
    "    return - np.log(u) / lam\n",
    "\n",
    "def exp_ab(lam, a, b, n):\n",
    "    Fa, Fb = cdf_exp(lam, a), cdf_exp(lam, b)\n",
    "    U01 = np.random.rand(n)               # ~ Unif(0,1)\n",
    "    Uab = Fa + U01 * (Fb - Fa)            # ~ Unif(Fa,Fb)\n",
    "    return inv_exp(lam, Uab)              # Y = F^{-1}(U) ∈ [a,b]\n",
    "\n",
    "def pmf_exp(lam, x):\n",
    "    return lam * np.exp(-lam * x)\n"
   ]
  },
  {
   "cell_type": "code",
   "execution_count": 9,
   "id": "35613d48",
   "metadata": {},
   "outputs": [
    {
     "data": {
      "image/png": "[encoded data removed]",
      "text/plain": [
       "<Figure size 600x400 with 1 Axes>"
      ]
     },
     "metadata": {},
     "output_type": "display_data"
    }
   ],
   "source": [
    "lam, a, b, n = 2.0, 0.0, 5.0, 50_000\n",
    "Y = exp_ab(lam, a, b, n)\n",
    "\n",
    "x = np.linspace(0, 5, 400)\n",
    "Fa, Fb = cdf_exp(lam, a), cdf_exp(lam, b)\n",
    "fY = np.where((x>=a)&(x<=b), pmf_exp(lam, x)/(Fb-Fa), 0.0)\n",
    "\n",
    "plt.figure(figsize=(6,4))\n",
    "plt.plot(x, fY, linewidth=2, label=f\"$Y \\sim \\mathrm{{Exp}}(\\lambda={lam}, a={a}, b={b})$\")\n",
    "plt.xlim(0,5)\n",
    "plt.legend()\n",
    "plt.xlabel(\"$x$\")\n",
    "plt.ylabel(\"$f_Y(x)$\")\n",
    "plt.tight_layout()\n",
    "plt.show()"
   ]
  },
  {
   "cell_type": "markdown",
   "id": "51a362d7",
   "metadata": {},
   "source": [
    "## a) Gráfica de $F_X(x)$"
   ]
  },
  {
   "cell_type": "markdown",
   "id": "d155fcc1",
   "metadata": {},
   "source": [
    "Por definición,\n",
    "\n",
    "$$\n",
    "F_X(x)=\\mathbb P(X\\le x)=\n",
    "\\begin{cases}\n",
    "0,&x<0,\\\\[2pt]\n",
    "\\mathbb P(\\min\\{Y,M\\}\\le x),&0\\le x<M,\\\\[2pt]\n",
    "1,&x\\ge M.\n",
    "\\end{cases}\n",
    "$$\n",
    "\n",
    "Para $0\\le x<M$: $\\min\\{Y,M\\}\\le x$ equivale a $Y\\le x$. Como $Y\\sim\\mathrm{Exp}(\\lambda)$,\n",
    "\n",
    "$$\n",
    "\\mathbb P(Y\\le x)=1-e^{-\\lambda x}.\n",
    "$$\n",
    "\n",
    "Entonces,\n",
    "\n",
    "$$\n",
    "F_X(x)=\n",
    "\\begin{cases}\n",
    "0,&x<0,\\\\\n",
    "1-e^{-\\lambda x},&0\\le x<M,\\\\\n",
    "1,&x\\ge M.\n",
    "\\end{cases}\n",
    "$$"
   ]
  },
  {
   "cell_type": "code",
   "execution_count": 10,
   "id": "03204845",
   "metadata": {},
   "outputs": [
    {
     "data": {
      "image/png": "[encoded data removed]",
      "text/plain": [
       "<Figure size 600x400 with 1 Axes>"
      ]
     },
     "metadata": {},
     "output_type": "display_data"
    }
   ],
   "source": [
    "M = 1.5\n",
    "FY = np.where(x<0, 0.0, np.where(x<M, cdf_exp(lam, x), 1.0))\n",
    "\n",
    "plt.figure(figsize=(6,4))\n",
    "plt.plot(x, FY, lw=2, label=r\"$F_Y$\")\n",
    "plt.axvline(M, ls=\"--\", lw=1, label=\"x = M\")\n",
    "plt.ylim(0,1.05)\n",
    "plt.xlim(0,5)\n",
    "plt.legend()\n",
    "plt.xlabel(\"$x$\")\n",
    "plt.ylabel(\"$F_Y(x)$\")\n",
    "plt.tight_layout()\n"
   ]
  },
  {
   "cell_type": "markdown",
   "id": "e505032f",
   "metadata": {},
   "source": [
    "## b) Gráfica de $F^{-1}_X(u)$"
   ]
  },
  {
   "cell_type": "markdown",
   "id": "a755190f",
   "metadata": {},
   "source": [
    "Sea $Y\\sim\\mathrm{Exp}(\\lambda)$, $M>0$, $X=\\min\\{Y,M\\}$ y $U\\sim\\mathrm{Unif}(0,1)$.\n",
    "\n",
    "**Encontrando la inversa:**\n",
    "\n",
    "* Para $x<0$, $u\\in\\{0\\}$:\n",
    "\n",
    "  $$\n",
    "  F_X^{-1}(0)=0.\n",
    "  $$\n",
    "\n",
    "* Para $0\\le x<M$, $u\\in\\big(0,\\;1-e^{-\\lambda M}\\big)$:\n",
    "\n",
    "  $$\n",
    "  \\begin{aligned}\n",
    "  F_X(x)=u \n",
    "  &\\iff 1-e^{-\\lambda x}=u,\\\\\n",
    "  &\\iff e^{-\\lambda x}=1-u,\\\\\n",
    "  &\\iff x=-\\frac{1}{\\lambda}\\ln(1-u).\n",
    "  \\end{aligned}\n",
    "  $$\n",
    "\n",
    "* En el salto $x=M$, $u\\in\\big[1-e^{-\\lambda M},\\,1\\big]$:\n",
    "\n",
    "\n",
    "  $$\n",
    "  F_X^{-1}(u)=M.\n",
    "  $$\n",
    "\n",
    "**Entonces:**\n",
    "\n",
    "$$\n",
    "F_X^{-1}(u)=\n",
    "\\begin{cases}\n",
    "0, & u=0,\\\\[6pt]\n",
    "-\\dfrac{1}{\\lambda}\\ln(1-u), & 0<u<1-e^{-\\lambda M},\\\\[10pt]\n",
    "M, & 1-e^{-\\lambda M}\\le u\\le 1.\n",
    "\\end{cases}\n",
    "$$"
   ]
  },
  {
   "cell_type": "code",
   "execution_count": 11,
   "id": "9956fd17",
   "metadata": {},
   "outputs": [
    {
     "data": {
      "image/png": "[encoded data removed]",
      "text/plain": [
       "<Figure size 600x400 with 1 Axes>"
      ]
     },
     "metadata": {},
     "output_type": "display_data"
    }
   ],
   "source": [
    "def q_X(u, lam=1.0, M=3):\n",
    "    u = np.asarray(u)\n",
    "    t = 1 - np.exp(-lam*M)\n",
    "    x = np.empty_like(u, dtype=float)\n",
    "    x[u==0] = 0.0\n",
    "    mask = (u>0) & (u<t)\n",
    "    x[mask] = -np.log1p(-u[mask]) / lam\n",
    "    x[u>=t] = M\n",
    "    return x\n",
    "\n",
    "u = np.linspace(0, 1, 1000, endpoint=True)\n",
    "xq = q_X(u, lam, M)\n",
    "plt.figure(figsize=(6,4))\n",
    "plt.plot(u, xq, lw=2, label=r\"$Q_X$\")\n",
    "plt.axvline(1-np.exp(-lam*M), ls=\"--\", lw=1, label=r\"$1 - F_Y(M)$\")\n",
    "plt.axhline(M, ls=\":\", lw=1, label=\"x = M\")\n",
    "plt.xlim(0,1)\n",
    "plt.ylim(0, max(5,M)+0.1)\n",
    "plt.legend()\n",
    "plt.xlabel(\"$u$\")\n",
    "plt.ylabel(\"$x$\")\n",
    "plt.tight_layout()\n"
   ]
  },
  {
   "cell_type": "markdown",
   "id": "422566c8",
   "metadata": {},
   "source": [
    "## c) $F_X(F^{-1}_X(u)) \\geq u,$ para $u \\in [0, 1]$."
   ]
  },
  {
   "cell_type": "markdown",
   "id": "aa0b4bc1",
   "metadata": {},
   "source": [
    "\n",
    "* Si $0<u<1-e^{-\\lambda M}$: Como $x=-(1/\\lambda)\\ln(1-u)\\in(0,M)$, entonces:\n",
    "\n",
    "  $$\n",
    "  F_X\\big(F_X^{-1}(u)\\big)=F_X(x)=1-e^{-\\lambda x}=u.\n",
    "  $$\n",
    "* Si $1-e^{-\\lambda M}\\le u\\le1$: $F_X^{-1}(u)=M$ y\n",
    "\n",
    "  $$\n",
    "  F_X\\big(F_X^{-1}(u)\\big)=F_X(M)=1\\ \\ge\\ u.\n",
    "  $$\n",
    "* En $u=0$: $F_X^{-1}(0)=0$ y $F_X(0)=0\\ge 0$.\n",
    "\n"
   ]
  },
  {
   "cell_type": "markdown",
   "id": "8c8fa236",
   "metadata": {},
   "source": [
    "## d) $F^{-1}_X(F_X(x)) \\leq x,$ para $x$ tal que $F_X(x) \\in [0, 1]$."
   ]
  },
  {
   "cell_type": "markdown",
   "id": "73c0288e",
   "metadata": {},
   "source": [
    "\n",
    "* Si $x<0$: $F_X(x)=0$ y $F_X^{-1}(0)=0\\le x$ \n",
    "\n",
    "\n",
    "\n",
    "* Si $x\\ge M$: $F_X(x)=1$ y $F_X^{-1}(1)=M\\le x$.\n",
    "\n",
    "\n",
    "\n",
    "\n",
    "* Si $0\\le x < M$: \n",
    "\n",
    "$$\n",
    "F_X^{-1}(F_X(x))=F_X^{-1}\\left(1-e^{-\\lambda x}\\right)= -\\dfrac{1}{\\lambda}\\ln(1-\\left(1-e^{-\\lambda x}\\right))= -\\dfrac{1}{\\lambda}\\ln(e^{-\\lambda x})=x.\n",
    "$$"
   ]
  },
  {
   "cell_type": "markdown",
   "id": "d7c04008",
   "metadata": {},
   "source": [
    "## e) Cómo generar valores con el método de la función inversa"
   ]
  },
  {
   "cell_type": "markdown",
   "id": "1aa12081",
   "metadata": {},
   "source": [
    "1. $U\\sim\\mathrm{Unif}(0,1)$.\n",
    "2. $X=F^{-1}(U)$.\n",
    "   Aquí:\n",
    "\n",
    "$$\n",
    "X=\\begin{cases}\n",
    "-\\dfrac{1}{\\lambda}\\ln(1-U),&U<1-e^{-\\lambda M},\\\\[6pt]\n",
    "M,&U\\ge 1-e^{-\\lambda M}.\n",
    "\\end{cases}\n",
    "$$\n"
   ]
  },
  {
   "cell_type": "markdown",
   "id": "503f5945",
   "metadata": {},
   "source": [
    "# 9. Mixta $X=\\max\\{Y,M\\}$ con $Y\\sim\\mathrm{Exp}(\\lambda)$"
   ]
  },
  {
   "cell_type": "markdown",
   "id": "17554ce3",
   "metadata": {},
   "source": [
    "## a) Gráfica de $F_X(x)$"
   ]
  },
  {
   "cell_type": "markdown",
   "id": "f1b7bb42",
   "metadata": {},
   "source": [
    "Para $X=\\max\\{Y,M\\}$ con $Y\\sim\\mathrm{Exp}(\\lambda)$ y $M>0$:\n",
    "\n",
    "$$\n",
    "F_X(x)=\\mathbb P(X\\le x)=\n",
    "\\begin{cases}\n",
    "0,& x<M,\\\\[4pt]\n",
    "1-e^{-\\lambda x},& x\\ge M.\n",
    "\\end{cases}\n",
    "$$\n",
    "\n",
    "Masa en $M$: $\\mathbb P(X=M)=1-e^{-\\lambda M}$. Densidad en $(M,\\infty)$:\n",
    "\n",
    "$$\n",
    "f_X(x)=\\lambda e^{-\\lambda x}\\,\\mathbf 1_{\\{x>M\\}}.\n",
    "$$"
   ]
  },
  {
   "cell_type": "code",
   "execution_count": 12,
   "id": "607047c6",
   "metadata": {},
   "outputs": [],
   "source": [
    "lam = 1.2   # λ > 0\n",
    "M = 2.0     # M > 0\n",
    "\n",
    "def F_X(x, lam, M):\n",
    "    x = np.asarray(x, dtype=float)\n",
    "    out = np.zeros_like(x)\n",
    "    mask = x >= M\n",
    "    out[mask] = 1.0 - np.exp(-lam * x[mask])\n",
    "    return out\n",
    "\n",
    "def F_inv(u, lam, M):\n",
    "    u = np.asarray(u, dtype=float)\n",
    "    p0 = 1.0 - np.exp(-lam * M)\n",
    "    out = np.empty_like(u)\n",
    "    left = u <= p0\n",
    "    out[left] = M\n",
    "    right = ~left\n",
    "    out[right] = -np.log(1.0 - u[right]) / lam\n",
    "    return out\n",
    "\n",
    "p0 = 1.0 - np.exp(-lam * M)\n",
    "\n",
    "\n",
    "x_min = max(0.0, M - 3.0)\n",
    "x_max = M + 8.0\n",
    "x = np.linspace(x_min, x_max, 2000)\n",
    "Fx = F_X(x, lam, M)"
   ]
  },
  {
   "cell_type": "code",
   "execution_count": 13,
   "id": "9929a76f",
   "metadata": {},
   "outputs": [
    {
     "data": {
      "image/png": "[encoded data removed]",
      "text/plain": [
       "<Figure size 600x400 with 1 Axes>"
      ]
     },
     "metadata": {},
     "output_type": "display_data"
    }
   ],
   "source": [
    "plt.figure(figsize=(6, 4))\n",
    "plt.plot(x, Fx, linewidth=2)\n",
    "plt.axvline(M, linestyle=\"--\", linewidth=1)\n",
    "plt.axhline(p0, linestyle=\"--\", linewidth=1)\n",
    "plt.scatter([M], [p0], s=40)          # value at x=M\n",
    "plt.scatter([M], [0.0], s=40, facecolors='none')  # left limit at M-\n",
    "plt.title(r\"$F_X(x)$ for $X=\\max\\{Y,M\\},\\ Y\\sim \\mathrm{Exp}(\\lambda)$\")\n",
    "plt.xlabel(\"x\")\n",
    "plt.ylabel(\"F_X(x)\")\n",
    "plt.ylim(-0.02, 1.02)\n",
    "plt.xlim(x_min, x_max)\n",
    "plt.grid(True, linewidth=0.5)\n",
    "plt.tight_layout()\n",
    "plt.show()"
   ]
  },
  {
   "cell_type": "markdown",
   "id": "9b7a95de",
   "metadata": {},
   "source": [
    "## b) Gráfica de $F^{-1}_X(u)$"
   ]
  },
  {
   "cell_type": "markdown",
   "id": "065fd6bd",
   "metadata": {},
   "source": [
    "Sea $p_0:=1-e^{-\\lambda M}$.\n",
    "\n",
    "$$\n",
    "F_X^{-1}(u)=\n",
    "\\begin{cases}\n",
    "M,& 0\\le u\\le p_0,\\\\[6pt]\n",
    "-\\dfrac{1}{\\lambda}\\ln(1-u),& p_0<u<1.\n",
    "\\end{cases}\n",
    "$$"
   ]
  },
  {
   "cell_type": "code",
   "execution_count": 14,
   "id": "f6ce54d6",
   "metadata": {},
   "outputs": [
    {
     "data": {
      "image/png": "[encoded data removed]",
      "text/plain": [
       "<Figure size 600x400 with 1 Axes>"
      ]
     },
     "metadata": {},
     "output_type": "display_data"
    }
   ],
   "source": [
    "u = np.linspace(0.0, 0.999, 2000)\n",
    "Finv = F_inv(u, lam, M)\n",
    "\n",
    "plt.figure(figsize=(6, 4))\n",
    "plt.plot(u, Finv, linewidth=2)\n",
    "plt.axvline(p0, linestyle=\"--\", linewidth=1)\n",
    "plt.axhline(M, linestyle=\"--\", linewidth=1)\n",
    "plt.title(r\"$F_X^{-1}(u)$\")\n",
    "plt.xlabel(\"u in [0,1)\")\n",
    "plt.ylabel(r\"$F_X^{-1}(u)$\")\n",
    "plt.grid(True, linewidth=0.5)\n",
    "plt.tight_layout()\n",
    "plt.show()"
   ]
  },
  {
   "cell_type": "markdown",
   "id": "5b254c35",
   "metadata": {},
   "source": [
    "## c) $F_X(F^{-1}_X(u)) \\geq u,$ para $u \\in [0, 1]$."
   ]
  },
  {
   "cell_type": "markdown",
   "id": "09745b14",
   "metadata": {},
   "source": [
    "Si $u\\le p_0$, $F_X^{-1}(u)=M$ y $F_X(M)=p_0\\ge u$.\n",
    "\n",
    "Si $u>p_0$, $F_X^{-1}(u)=-(1/\\lambda)\\ln(1-u)$ y $F_X(F_X^{-1}(u))=u$.`"
   ]
  },
  {
   "cell_type": "markdown",
   "id": "3ff30d8a",
   "metadata": {},
   "source": [
    "## d) $F^{-1}_X(F_X(x)) \\geq x,$ para $x$ tal que $F_X(x) \\in [0, 1]$."
   ]
  },
  {
   "cell_type": "markdown",
   "id": "49299b59",
   "metadata": {},
   "source": [
    "Si $x<M$, $F_X(x)=0$ y $F_X^{-1}(0)=M\\ge x$.\n",
    "\n",
    "Si $x\\ge M$, $F_X(x)=1-e^{-\\lambda x}\\ge p_0$ y $F_X^{-1}(F_X(x))=x$."
   ]
  },
  {
   "cell_type": "markdown",
   "id": "bdcfb9c1",
   "metadata": {},
   "source": [
    "## e) Cómo generar valores con el método de la función inversa"
   ]
  },
  {
   "cell_type": "markdown",
   "id": "92ae64ac",
   "metadata": {},
   "source": [
    "Se muestrea $U\\sim\\mathrm{Unif}(0,1)$ y se define\n",
    "\n",
    "$$\n",
    "X=\\begin{cases}\n",
    "M,& U\\le 1-e^{-\\lambda M},\\\\[6pt]\n",
    "-\\dfrac{1}{\\lambda}\\ln(1-U),& U>1-e^{-\\lambda M}.\n",
    "\\end{cases}\n",
    "$$\n"
   ]
  },
  {
   "cell_type": "markdown",
   "id": "5af96ca5",
   "metadata": {},
   "source": [
    "# 10. Variable con CDF por tramos"
   ]
  },
  {
   "cell_type": "markdown",
   "id": "39638936",
   "metadata": {},
   "source": [
    "## a) Gráfica de $F_{X}(x)$"
   ]
  },
  {
   "cell_type": "markdown",
   "id": "3c91c6f3",
   "metadata": {},
   "source": [
    "\n",
    "$$\n",
    "F_X(x)=\n",
    "\\begin{cases}\n",
    "0,& x\\le -2,\\\\[2pt]\n",
    "\\dfrac{x+2}{2},& -2<x<-1,\\\\[8pt]\n",
    "\\dfrac12,& -1\\le x<1,\\\\[6pt]\n",
    "\\dfrac{x}{2},& 1\\le x<2,\\\\[6pt]\n",
    "1,& x\\ge 2.\n",
    "\\end{cases}\n",
    "$$\n"
   ]
  },
  {
   "cell_type": "code",
   "execution_count": 15,
   "id": "796fe8e7",
   "metadata": {},
   "outputs": [
    {
     "data": {
      "image/png": "[encoded data removed]",
      "text/plain": [
       "<Figure size 640x480 with 1 Axes>"
      ]
     },
     "metadata": {},
     "output_type": "display_data"
    }
   ],
   "source": [
    "def F(x):\n",
    "    if x <= -2:\n",
    "        return 0\n",
    "    elif -2 < x < -1:\n",
    "        return (x + 2) / 2\n",
    "    elif -1 <= x < 1:\n",
    "        return 0.5\n",
    "    elif 1 <= x < 2:\n",
    "        return x / 2\n",
    "    elif x >= 2:\n",
    "        return 1\n",
    "\n",
    "x = np.linspace(-3, 3, 400)\n",
    "Fx = [F(xi) for xi in x]\n",
    "\n",
    "plt.plot(x, Fx, lw=2, color=color[0])\n",
    "plt.xlabel('$x$')\n",
    "plt.ylabel('$F_X(x)$')\n",
    "plt.show()"
   ]
  },
  {
   "cell_type": "markdown",
   "id": "c56d4859",
   "metadata": {},
   "source": [
    "## b) Gráfica de $F_{X}^{-1}(u)$"
   ]
  },
  {
   "cell_type": "markdown",
   "id": "8b28fe09",
   "metadata": {},
   "source": [
    "Sea **$U\\sim\\mathrm{Unif}(0,1)$**.\n",
    "\n",
    "**Encontrando la inversa:**\n",
    "\n",
    "* Para $x\\le -2$, $u\\in\\{0\\}$\n",
    "  $$\n",
    "  F_X^{-1}(0)=-2\n",
    "  $$.\n",
    "\n",
    "\n",
    "* Para $-2<x<-1$, $u\\in(0,\\tfrac12)$:\n",
    "\n",
    "  $$\n",
    "  \\begin{aligned}\n",
    "  F_X(x)=u &\\iff \\frac{x+2}{2}=u,\\\\\n",
    "           &\\iff x=2u-2.\n",
    "  \\end{aligned}\n",
    "  $$\n",
    "* Para $-1\\le x<1$, $u\\in\\{\\tfrac12\\}$: \n",
    "\n",
    "  $$\n",
    "  F_X^{-1}(\\tfrac12)=-1\n",
    "  $$.\n",
    "  \n",
    "  \n",
    "* Para $1\\le x<2$, $u\\in(\\tfrac12,1)$:\n",
    "\n",
    "  $$\n",
    "  \\begin{aligned}\n",
    "  F_X(x)=u &\\iff \\frac{x}{2}=u,\\\\\n",
    "           &\\iff x=2u.\n",
    "  \\end{aligned}\n",
    "  $$\n",
    "* Para $x\\ge 2$, $u\\in\\{1\\}$: \n",
    "\n",
    "$$\n",
    "F_X^{-1}(1)=2\n",
    "$$.\n",
    "\n",
    "**Entonces:**\n",
    "\n",
    "$$\n",
    "F_X^{-1}(u)=\n",
    "\\begin{cases}\n",
    "-2,& u=0,\\\\[4pt]\n",
    "2u-2,& 0<u<\\tfrac12,\\\\[4pt]\n",
    "-1,& u=\\tfrac12,\\\\[4pt]\n",
    "2u,& \\tfrac12<u<1,\\\\[4pt]\n",
    "2,& u=1.\n",
    "\\end{cases}\n",
    "$$\n"
   ]
  },
  {
   "cell_type": "code",
   "execution_count": 16,
   "id": "5d524779",
   "metadata": {},
   "outputs": [
    {
     "data": {
      "image/png": "[encoded data removed]",
      "text/plain": [
       "<Figure size 800x500 with 1 Axes>"
      ]
     },
     "metadata": {},
     "output_type": "display_data"
    }
   ],
   "source": [
    "def F_inv_func(u):\n",
    "    if u == 0:\n",
    "        return -2\n",
    "    elif 0 < u < 0.5:\n",
    "        return 2 * u - 2\n",
    "    elif u == 0.5:\n",
    "        return -1\n",
    "    elif 0.5 < u < 1:\n",
    "        return 2 * u\n",
    "    elif u == 1:\n",
    "        return 2\n",
    "\n",
    "u = np.linspace(0, 1, 500)\n",
    "F_inv = [F_inv_func(val) for val in u]\n",
    "\n",
    "plt.figure(figsize=(8, 5))\n",
    "plt.plot(u, F_inv, color=color[0], lw=2)\n",
    "plt.xlabel('$u$')\n",
    "plt.ylabel('$F_X^{-1}(u)$')\n",
    "plt.show()"
   ]
  },
  {
   "cell_type": "markdown",
   "id": "35944422",
   "metadata": {},
   "source": [
    "## c) $F_{X}(F^{-1}_X(u)) \\geq u,$ para $u \\in [0,1]$"
   ]
  },
  {
   "cell_type": "markdown",
   "id": "6fdcf339",
   "metadata": {},
   "source": [
    "\n",
    "\n",
    "Sea $x(u)=F_X^{-1}(u)$.\n",
    "\n",
    "* **$u=0$:**\n",
    "\n",
    "$$\n",
    "\\begin{align*}\n",
    "F_X^{-1}(0)&=-2. \\\\\n",
    "F_X(-2)&=0=u.\n",
    "\\end{align*}\n",
    "$$\n",
    "\n",
    "* **$0<u<\\tfrac12$:**\n",
    "\n",
    "$$\n",
    "\\begin{align*}\n",
    "F_X^{-1}(u) & =2u-2\\in(-2,-1). \\\\\n",
    "F_X(2u-2) & =\\dfrac{(2u-2)+2}{2}=u.\n",
    "\\end{align*}\n",
    "$$  \n",
    "\n",
    "* **$u=\\tfrac12$:**\n",
    "$$\n",
    "\\begin{align*}\n",
    "F_X^{-1}(\\tfrac12) & =-1. \\\\\n",
    "F_X(-1) & =\\tfrac12=u.\n",
    "\\end{align*}\n",
    "$$\n",
    "\n",
    "* **$\\tfrac12<u<1$:**\n",
    "$$\n",
    "\\begin{align*}\n",
    "F_X^{-1}(u) & =2u\\in(1,2). \\\\\n",
    "F_X(2u) & =\\dfrac{2u}{2}=u.\n",
    "\\end{align*}\n",
    "$$\n",
    "\n",
    "* **$u=1$:**\n",
    "$$\n",
    "\\begin{align*}\n",
    "F_X^{-1}(1) & =2. \\\\\n",
    "F_X(2) & =1=u.\n",
    "\\end{align*}\n",
    "$$\n"
   ]
  },
  {
   "cell_type": "markdown",
   "id": "449f2741",
   "metadata": {},
   "source": [
    "## d) $F_{X}^{-1}(F_X(x)) \\leq x,$ para $x$ tal que $F_X(x) \\in (0, 1)$."
   ]
  },
  {
   "cell_type": "markdown",
   "id": "2b520cf2",
   "metadata": {},
   "source": [
    "\n",
    "* **$x<-2$:**  \n",
    "$$\n",
    "\\begin{align*}\n",
    "F_X(x) &= 0. \\\\\n",
    "F_X^{-1}(F_X(x)) &= F_X^{-1}(0) = -2 \\leq x.\n",
    "\\end{align*}\n",
    "$$\n",
    "\n",
    "* **$x\\in(-2,-1)$:**  \n",
    "$$\n",
    "\\begin{align*}\n",
    "F_X(x) &= \\dfrac{x+2}{2} \\in (0,\\tfrac12). \\\\\n",
    "F_X^{-1}(F_X(x)) &= 2\\cdot\\dfrac{x+2}{2}-2 = x. \n",
    "\\end{align*}\n",
    "$$\n",
    "\n",
    "* **$x\\in[-1,1)$:**  \n",
    "$$\n",
    "\\begin{align*}\n",
    "F_X(x) &= \\tfrac12. \\\\\n",
    "F_X^{-1}(F_X(x)) &= F_X^{-1}(\\tfrac12) = -1 \\leq x.\n",
    "\\end{align*}\n",
    "$$\n",
    "\n",
    "* **$x\\in[1,2)$:**  \n",
    "$$\n",
    "\\begin{align*}\n",
    "F_X(x) &= \\dfrac{x}{2} \\in [\\tfrac12,1). \\\\\n",
    "F_X^{-1}(F_X(x)) &= 2\\cdot\\dfrac{x}{2} = x. \n",
    "\\end{align*}\n",
    "$$\n",
    "\n",
    "* **$x\\geq 2$:**  \n",
    "$$\n",
    "\\begin{align*}\n",
    "F_X(x) &= 1. \\\\\n",
    "F_X^{-1}(F_X(x)) &= F_X^{-1}(1) = 2 \\leq x.\n",
    "\\end{align*}\n",
    "$$"
   ]
  },
  {
   "cell_type": "markdown",
   "id": "75b2943c",
   "metadata": {},
   "source": [
    "## e) Cómo generar valores con el método de la función inversa"
   ]
  },
  {
   "cell_type": "markdown",
   "id": "f99ff068",
   "metadata": {},
   "source": [
    "1. Generar $U\\sim\\mathrm{Unif}(0,1)$.\n",
    "\n",
    "2. Definir la inversa\n",
    "\n",
    "$$\n",
    "F^{-1}(u)=\\inf\\{x:\\ F(x)\\ge u\\}.\n",
    "$$\n",
    "\n",
    "3. Asignar $X=F^{-1}(U)$.\n",
    "\n",
    "2. Entonces:\n",
    "\n",
    "$$\n",
    "\\mathbb{P}(X\\le x)=\\mathbb{P}\\!\\big(F^{-1}(U)\\le x\\big)=\\mathbb{P}\\!\\big(U\\le F(x)\\big)=F(x).\n",
    "$$\n"
   ]
  },
  {
   "cell_type": "markdown",
   "id": "587c6896",
   "metadata": {},
   "source": [
    "## f) Gráfica de $f_{X}(x)$.\n"
   ]
  },
  {
   "cell_type": "code",
   "execution_count": 17,
   "id": "585bd400",
   "metadata": {},
   "outputs": [
    {
     "data": {
      "image/png": "[encoded data removed]",
      "text/plain": [
       "<Figure size 640x480 with 1 Axes>"
      ]
     },
     "metadata": {},
     "output_type": "display_data"
    }
   ],
   "source": [
    "def f(x):\n",
    "    if x < -2:\n",
    "        return 0\n",
    "    elif  -2 < x < -1:\n",
    "        return 1/2\n",
    "    elif -1 <= x < 1:\n",
    "        return 0\n",
    "    elif 1 <= x < 2:\n",
    "        return 1/2\n",
    "    else:\n",
    "        return 0\n",
    "    \n",
    "\n",
    "x = np.linspace(-3, 3, 400)\n",
    "fx = [f(xi) for xi in x]\n",
    "\n",
    "plt.plot(x, fx, lw=2, color=color[0])\n",
    "plt.xlabel('$x$')\n",
    "plt.ylabel('$F_X(x)$')\n",
    "plt.show()"
   ]
  },
  {
   "cell_type": "markdown",
   "id": "306a6222",
   "metadata": {},
   "source": [
    "## g) Programa"
   ]
  },
  {
   "cell_type": "markdown",
   "id": "09ac7e72",
   "metadata": {},
   "source": [
    "Está en el inciso anterior."
   ]
  },
  {
   "cell_type": "markdown",
   "id": "56c6709e",
   "metadata": {},
   "source": [
    "## h) $\\mathbb{E}[X] = 0$."
   ]
  },
  {
   "cell_type": "markdown",
   "id": "d7a89a73",
   "metadata": {},
   "source": [
    "La densidad es\n",
    "\n",
    "$$\n",
    "f(x)=\\tfrac12\\,\\mathbf 1_{(-2,-1)}(x)+\\tfrac12\\,\\mathbf 1_{(1,2)}(x),\n",
    "$$\n",
    "\n",
    "\n",
    "**Simetría.**\n",
    "\n",
    "Es simétrica, $f(x)=f(-x)$. Entonces\n",
    "\n",
    "$$\n",
    "\\mathbb E[X]=\\int_{\\mathbb R} x\\,f(x)\\,dx\n",
    "=\\int_{-\\infty}^{\\infty} x\\,f(x)\\,dx\n",
    "=-\\int_{-\\infty}^{\\infty} x\\,f(x)\\,dx\n",
    "$$\n",
    "\n",
    "por el cambio $x\\mapsto -x$ y la simetría, así $\\mathbb E[X]=0$.\n",
    "\n",
    "**Cálculo.**\n",
    "\n",
    "$$\n",
    "\\mathbb E[X]=\\frac12\\!\\int_{-2}^{-1}\\!x\\,dx+\\frac12\\!\\int_{1}^{2}\\!x\\,dx\n",
    "=\\frac12\\Big[\\tfrac{x^{2}}{2}\\Big]_{-2}^{-1}+\\frac12\\Big[\\tfrac{x^{2}}{2}\\Big]_{1}^{2}\n",
    "=\\frac12\\Big(\\tfrac12-2\\Big)+\\frac12\\Big(2-\\tfrac12\\Big)=0.\n",
    "$$\n",
    "\n",
    "**Mezcla.**\n",
    "\n",
    "$X\\sim \\tfrac12\\,\\mathrm{Unif}(-2,-1)+\\tfrac12\\,\\mathrm{Unif}(1,2)$.\n",
    "\n",
    "$\\mathbb E[\\mathrm{Unif}(-2,-1)]=-1.5$, $\\mathbb E[\\mathrm{Unif}(1,2)]=1.5$.\n",
    "\n",
    "$\\mathbb E[X]=\\tfrac12(-1.5)+\\tfrac12(1.5)=0$.\n"
   ]
  },
  {
   "cell_type": "markdown",
   "id": "bf57a971",
   "metadata": {},
   "source": [
    "## i) $\\bar{x} \\approx 0$."
   ]
  },
  {
   "cell_type": "code",
   "execution_count": 18,
   "id": "35e4eb6e",
   "metadata": {},
   "outputs": [
    {
     "data": {
      "text/plain": [
       "np.float64(0.0005)"
      ]
     },
     "execution_count": 18,
     "metadata": {},
     "output_type": "execute_result"
    }
   ],
   "source": [
    "x = np.random.uniform(-10000, 10000, 1000)\n",
    "fx = [f(xi) for xi in x]\n",
    "np.mean(fx)  "
   ]
  },
  {
   "cell_type": "markdown",
   "id": "d82ca5ab",
   "metadata": {},
   "source": [
    "# 11. Bernoulli $(p)$ desde $U(0,1)$"
   ]
  },
  {
   "cell_type": "markdown",
   "id": "fffb2187",
   "metadata": {},
   "source": [
    "Sea **$U\\sim\\mathrm{Unif}(0,1)$** y $0<p<1$. Defina\n",
    "\n",
    "$$\n",
    "X=\\mathbf 1_{(0,p]}(U)=\n",
    "\\begin{cases}\n",
    "1,& U\\le p,\\\\\n",
    "0,& U>p.\n",
    "\\end{cases}\n",
    "$$\n",
    "\n",
    "$$\n",
    "\\mathbb P(X=1)=\\mathbb P(U\\le p)=p,\\qquad\n",
    "\\mathbb P(X=0)=\\mathbb P(U>p)=1-p,\n",
    "$$\n",
    "\n",
    "usando que $\\mathbb P(U=p)=0$. Por tanto $X\\sim \\mathrm{Bernoulli}(p)$."
   ]
  },
  {
   "cell_type": "markdown",
   "id": "9895c7d5",
   "metadata": {},
   "source": [
    "# 12. Variable aleatoria discreta"
   ]
  },
  {
   "cell_type": "markdown",
   "id": "186e7aee",
   "metadata": {},
   "source": [
    "## a) Gráfica de $f_X(x)$"
   ]
  },
  {
   "cell_type": "markdown",
   "id": "ac4a51fa",
   "metadata": {},
   "source": [
    "$$\n",
    "f_X(x)=\n",
    "\\begin{cases}\n",
    "0.3& x=1,\\\\\n",
    "0.5,& x=2,\\\\\n",
    "0.2,& x=3,\\\\\n",
    "0,& \\text{en otro caso.}\n",
    "\\end{cases}\n",
    "$$"
   ]
  },
  {
   "cell_type": "code",
   "execution_count": 19,
   "id": "7659c2fb",
   "metadata": {},
   "outputs": [
    {
     "data": {
      "image/png": "[encoded data removed]",
      "text/plain": [
       "<Figure size 640x480 with 1 Axes>"
      ]
     },
     "metadata": {},
     "output_type": "display_data"
    }
   ],
   "source": [
    "x_vals = [1, 2, 3]\n",
    "pmf = [0.3, 0.5, 0.2]\n",
    "\n",
    "plt.vlines(x_vals, 0, pmf, linestyle='--')\n",
    "plt.plot(x_vals, pmf, 'o')\n",
    "plt.xlabel('$X$')\n",
    "plt.ylabel('$f_X(x)$')\n",
    "plt.show()"
   ]
  },
  {
   "cell_type": "markdown",
   "id": "b42eaed0",
   "metadata": {},
   "source": [
    "## b) Gráfica de $F_X(x)$"
   ]
  },
  {
   "cell_type": "markdown",
   "id": "b1e05bad",
   "metadata": {},
   "source": [
    "$$\n",
    "F_X(x)=\\mathbb P(X\\le x)=\n",
    "\\begin{cases}\n",
    "0,& x<1,\\\\\n",
    "0.3,& 1\\le x<2,\\\\\n",
    "0.8,& 2\\le x<3,\\\\\n",
    "1,& x\\ge 3.\n",
    "\\end{cases}\n",
    "$$"
   ]
  },
  {
   "cell_type": "code",
   "execution_count": 20,
   "id": "814b5d9e",
   "metadata": {},
   "outputs": [
    {
     "data": {
      "image/png": "[encoded data removed]",
      "text/plain": [
       "<Figure size 640x480 with 1 Axes>"
      ]
     },
     "metadata": {},
     "output_type": "display_data"
    }
   ],
   "source": [
    "x_cdf = [-1, 1, 2, 3, 4]\n",
    "F_cdf = [0, 0.3, 0.5, 1, 1]\n",
    "\n",
    "plt.step(x_cdf, F_cdf, where='post', linestyle='-')\n",
    "plt.xlabel('$X$')\n",
    "plt.ylabel('$F_X(x)$')\n",
    "plt.title('Expected value $\\mathbb{E}[X]$')\n",
    "plt.show()\n"
   ]
  },
  {
   "cell_type": "markdown",
   "id": "72e46b7e",
   "metadata": {},
   "source": [
    "## c) Gráfica de $F^{-1}_X(u)$"
   ]
  },
  {
   "cell_type": "markdown",
   "id": "87763269",
   "metadata": {},
   "source": [
    "\n",
    "\n",
    "\n",
    "Sea **$U\\sim\\mathrm{Unif}(0,1)$**.\n",
    "\n",
    "$$\n",
    "\\begin{aligned}\n",
    "F_X(x)=u &\\;\\iff\\; u\\in(0,0.3]\\ \\Rightarrow\\ x=1,\\\\\n",
    "         &\\;\\iff\\; u\\in(0.3,0.8]\\ \\Rightarrow\\ x=2,\\\\\n",
    "         &\\;\\iff\\; u\\in(0.8,1]\\ \\Rightarrow\\ x=3.\n",
    "\\end{aligned}\n",
    "$$\n",
    "\n",
    "Entonces:\n",
    "\n",
    "$$\n",
    "F_X^{-1}(u)=\n",
    "\\begin{cases}\n",
    "1,& 0<u\\le 0.3,\\\\\n",
    "2,& 0.3<u\\le 0.8,\\\\\n",
    "3,& 0.8<u\\le 1.\n",
    "\\end{cases}\n",
    "$$\n"
   ]
  },
  {
   "cell_type": "code",
   "execution_count": 21,
   "id": "20130ece",
   "metadata": {},
   "outputs": [
    {
     "data": {
      "image/png": "[encoded data removed]",
      "text/plain": [
       "<Figure size 640x480 with 1 Axes>"
      ]
     },
     "metadata": {},
     "output_type": "display_data"
    }
   ],
   "source": [
    "\n",
    "u_vals = [0, 0, 0.3, 0.8, 1.0]\n",
    "F_inv_values = [-1, 1, 2, 3, 4]\n",
    "\n",
    "plt.step(u_vals, F_inv_values, where='post')\n",
    "plt.xlabel('$u$')\n",
    "plt.ylabel('$F^{-1}(u)$')\n",
    "plt.show()"
   ]
  },
  {
   "cell_type": "markdown",
   "id": "435b51cb",
   "metadata": {},
   "source": [
    "\n",
    "## d) Valor esperado $\\mathbb E[X]$\n",
    "$$\n",
    "\\mathbb E[X]=\\sum_{x=1}^{3}x\\cdot f_X(x)=1\\cdot 0.3+2\\cdot 0.5+3\\cdot 0.2=1.9.\n",
    "$$\n",
    "\n",
    "## e) Varianza $\\mathbb V[X]$\n",
    "$$\n",
    "\\mathbb V[X]=\\sum_{x=1}^{3}(x-\\mathbb E[X])^2\\cdot f_X(x)=\n",
    "(1-1.9)^2\\cdot 0.3+(2-1.9)^2\\cdot 0.5+(3-1.9)^2\\cdot 0.2=0.49.\n",
    "$$\n",
    "\n",
    "$$\n",
    "\\mathbb V[X] = \\mathbb E[X^2] - (\\mathbb E[X])^2 = \n",
    "0.3\\cdot 1^2 + 0.5\\cdot 2^2 + 0.2\\cdot 3^2 - (1.9)^2 = 2.79 - (1.9)^2 = 0.49.\n",
    "$$"
   ]
  },
  {
   "cell_type": "markdown",
   "id": "56bf840c",
   "metadata": {},
   "source": [
    "## f) Programa"
   ]
  },
  {
   "cell_type": "code",
   "execution_count": 22,
   "id": "00b56222",
   "metadata": {},
   "outputs": [],
   "source": [
    "def F_inv(u):\n",
    "    if 0.3 < u <= 0.8:\n",
    "        return 2\n",
    "    elif u <= 0.3:\n",
    "        return 1\n",
    "    else:\n",
    "        return 3"
   ]
  },
  {
   "cell_type": "markdown",
   "id": "2b28fc0a",
   "metadata": {},
   "source": [
    "## g) Histograma"
   ]
  },
  {
   "cell_type": "code",
   "execution_count": 23,
   "id": "ef726c3c",
   "metadata": {},
   "outputs": [],
   "source": [
    "u_samples = np.random.uniform(0, 1, 500)\n",
    "x_samples = [F_inv(u) for u in u_samples]"
   ]
  },
  {
   "cell_type": "code",
   "execution_count": 24,
   "id": "221fe660",
   "metadata": {},
   "outputs": [
    {
     "data": {
      "image/png": "[encoded data removed]",
      "text/plain": [
       "<Figure size 640x480 with 1 Axes>"
      ]
     },
     "metadata": {},
     "output_type": "display_data"
    }
   ],
   "source": [
    "plt.hist(x_samples, bins=np.arange(0.5, 4.5, 1), density=True, alpha=0.3, label='Simulación')\n",
    "plt.vlines(x_vals, 0, pmf, linestyle='--')\n",
    "plt.plot(x_vals, pmf, 'o', label='PMF')\n",
    "plt.xlabel(\"$X$\")\n",
    "plt.ylabel(\"Densidad\")\n",
    "plt.title(\"Histograma de $F_X^{-1}(U)$\")\n",
    "plt.legend()\n",
    "plt.show()"
   ]
  },
  {
   "cell_type": "markdown",
   "id": "ee46e649",
   "metadata": {},
   "source": [
    "## h) $\\mathbb E[X] \\approx \\bar{x}$"
   ]
  },
  {
   "cell_type": "code",
   "execution_count": 25,
   "id": "4b76b28c",
   "metadata": {},
   "outputs": [
    {
     "name": "stdout",
     "output_type": "stream",
     "text": [
      "Media muestral de X: 1.922\n",
      "Media teórica de X: 1.9\n",
      "Diferencia: 0.0220\n"
     ]
    }
   ],
   "source": [
    "x_mean = np.mean(x_samples)\n",
    "print(f\"Media muestral de X: {x_mean}\")\n",
    "print(f\"Media teórica de X: 1.9\")\n",
    "print(f\"Diferencia: {x_mean - 1.9:.4f}\")"
   ]
  },
  {
   "cell_type": "markdown",
   "id": "72bdb2ac",
   "metadata": {},
   "source": [
    "## i) $\\mathbb V[X] \\approx s^2$"
   ]
  },
  {
   "cell_type": "code",
   "execution_count": 26,
   "id": "71fcf0cc",
   "metadata": {},
   "outputs": [
    {
     "name": "stdout",
     "output_type": "stream",
     "text": [
      "Varianza muestral de X: 0.5279159999999999\n",
      "Varianza teórica de X: 0.49\n",
      "Diferencia: 0.0379\n"
     ]
    }
   ],
   "source": [
    "x_var = np.var(x_samples)\n",
    "print(f\"Varianza muestral de X: {x_var}\")\n",
    "print(f\"Varianza teórica de X: 0.49\")\n",
    "print(f\"Diferencia: {x_var - 0.49:.4f}\")"
   ]
  },
  {
   "cell_type": "markdown",
   "id": "0c269700",
   "metadata": {},
   "source": [
    "# 13. Binomial, Geométrica y Poisson"
   ]
  },
  {
   "cell_type": "markdown",
   "id": "186e2f5a",
   "metadata": {},
   "source": [
    "Implementa generadores por inversión para:\n",
    "- $X\\sim\\mathrm{Bin}(m,p)$ con $m = 10$ y $p = 1/3$\n",
    "- $X\\sim\\mathrm{Geo}(p)$ con $\\mathbb P(X=k)=p(1-p)^{k-1}$, $k\\ge 1$ con $p = 3/4$\n",
    "- $X\\sim\\mathrm{Poisson}(\\lambda)$ con $\\lambda = 2$\n"
   ]
  },
  {
   "cell_type": "markdown",
   "id": "4bd9ed01",
   "metadata": {},
   "source": [
    "## a) Binomial"
   ]
  },
  {
   "cell_type": "code",
   "execution_count": 27,
   "id": "e31ef840",
   "metadata": {},
   "outputs": [
    {
     "name": "stdout",
     "output_type": "stream",
     "text": [
      "[2, 5, 3, 2, 5, 3, 4, 4, 5, 4, 3, 6, 3, 5, 4, 2, 3, 3, 3, 5]\n"
     ]
    }
   ],
   "source": [
    "def binomial(n: int, p: float, size: int):\n",
    "\n",
    "    c = p/(1.0 - p)                 # paso 2: c\n",
    "    out = []\n",
    "    for _ in range(size):\n",
    "        U  = random.random()        # paso 1\n",
    "        i  = 0                      # paso 2\n",
    "        pr = (1.0 - p)**n           # pr = P(X=0)\n",
    "        F  = pr\n",
    "        if U < F:                   # paso 3–5\n",
    "            out.append(i); continue\n",
    "        while True:                 # paso 6\n",
    "            pr *= c * (n - i) / (i + 1)  # paso 7\n",
    "            F  += pr\n",
    "            i  += 1\n",
    "            if U < F or i == n:          # paso 8–11 (con tope)\n",
    "                out.append(i)\n",
    "                break\n",
    "    return out\n",
    "\n",
    "m = binomial(n=10, p=1/3, size=100)\n",
    "print(m[:20])"
   ]
  },
  {
   "cell_type": "markdown",
   "id": "d102fc50",
   "metadata": {},
   "source": [
    "## b) Geométrica"
   ]
  },
  {
   "cell_type": "code",
   "execution_count": 28,
   "id": "9e285f69",
   "metadata": {},
   "outputs": [
    {
     "name": "stdout",
     "output_type": "stream",
     "text": [
      "[1, 1, 1, 1, 2, 2, 1, 2, 1, 1, 1, 2, 3, 1, 1, 2, 2, 1, 1, 1]\n"
     ]
    }
   ],
   "source": [
    "def geometrica(p: float, n: int):\n",
    "\n",
    "    out = []\n",
    "    for _ in range(n):\n",
    "        u = random.random()       \n",
    "        x = math.ceil(math.log(u) / math.log(1.0 - p))\n",
    "        out.append(x)\n",
    "    return out\n",
    "\n",
    "\n",
    "muestras = geometrica(p=3/4, n=100)\n",
    "print(muestras[:20])\n"
   ]
  },
  {
   "cell_type": "markdown",
   "id": "641c4cbe",
   "metadata": {},
   "source": [
    "## c) Poisson"
   ]
  },
  {
   "cell_type": "code",
   "execution_count": 29,
   "id": "dc7beeee",
   "metadata": {},
   "outputs": [
    {
     "name": "stdout",
     "output_type": "stream",
     "text": [
      "[1, 2, 0, 3, 0, 4, 1, 0, 3, 0, 0, 1, 3, 1, 2, 3, 2, 2, 3, 1]\n"
     ]
    }
   ],
   "source": [
    "def poisson(lam: float, n: int):\n",
    "    \n",
    "    out = []\n",
    "    for _ in range(n):\n",
    "        # 1) U ~ U(0,1)\n",
    "        U = random.random()\n",
    "        # 2) i=0, p=e^{-lam}, F=p\n",
    "        i = 0\n",
    "        p = math.exp(-lam)\n",
    "        F = p\n",
    "        # 3) if U < F: X=i\n",
    "        if U < F:\n",
    "            out.append(i)\n",
    "            continue\n",
    "        # 6–11) loop: p = (lam/(i+1))*p; F = F + p; i = i + 1; if U < F: X=i\n",
    "        while True:\n",
    "            i += 1\n",
    "            p = p * lam / i\n",
    "            F = F + p\n",
    "            if U < F:\n",
    "                out.append(i)\n",
    "                break\n",
    "    return out\n",
    "\n",
    "muestras = poisson(lam=2.0, n=100)\n",
    "print(muestras[:20])\n"
   ]
  }
 ],
 "metadata": {
  "kernelspec": {
   "display_name": "u",
   "language": "python",
   "name": "python3"
  },
  "language_info": {
   "codemirror_mode": {
    "name": "ipython",
    "version": 3
   },
   "file_extension": ".py",
   "mimetype": "text/x-python",
   "name": "python",
   "nbconvert_exporter": "python",
   "pygments_lexer": "ipython3",
   "version": "3.11.13"
  }
 },
 "nbformat": 4,
 "nbformat_minor": 5
}
