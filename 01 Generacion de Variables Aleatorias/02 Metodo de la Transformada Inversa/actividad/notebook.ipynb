{
 "cells": [
  {
   "cell_type": "code",
   "execution_count": null,
   "id": "8143dc55",
   "metadata": {},
   "outputs": [],
   "source": [
    "# IMPORTS BÁSICOS (puedes modificar)\n",
    "import numpy as np\n",
    "import math\n",
    "import matplotlib.pyplot as plt\n",
    "\n",
    "# Control de aleatoriedad\n",
    "seed = 2025\n",
    "rng = np.random.default_rng(seed)"
   ]
  },
  {
   "cell_type": "markdown",
   "id": "9c12d3b2",
   "metadata": {},
   "source": [
    "# Distribución Uniforme $(a,b)$"
   ]
  },
  {
   "cell_type": "markdown",
   "id": "370ca782",
   "metadata": {},
   "source": [
    "Sea **$U\\sim\\mathrm{Unif}(0,1)$**. Si $X\\sim\\mathrm{Unif}(a,b)$, entonces su funcion de distribucion acumulada es:\n",
    "\n",
    "$$\n",
    "F_X(x)=\\frac{x-a}{b-a}\\,\\mathbf{1}_{[a,b]}(x) + \\mathbf{1}_{(b,\\infty)}(x)\n",
    "$$\n",
    "\n",
    "Encontrando la inversa:\n",
    "\n",
    "$$\n",
    "\\begin{aligned}\n",
    "F_X(x)=u &\\quad\\iff\\quad \\frac{x-a}{b-a}=u,\\\\\n",
    "         &\\quad\\iff\\quad x-a=(b-a)\\,u,\\\\\n",
    "         &\\quad\\iff\\quad x=a+(b-a)\\,u.\n",
    "\\end{aligned}\n",
    "$$\n",
    "\n",
    "Entonces:\n",
    "\n",
    "$$\n",
    "F_X^{-1}(u)=a+(b-a)\\,u.\n",
    "$$\n"
   ]
  },
  {
   "cell_type": "markdown",
   "id": "579f89ad",
   "metadata": {},
   "source": [
    "# Distribución Discreta"
   ]
  },
  {
   "cell_type": "markdown",
   "id": "94cbd904",
   "metadata": {},
   "source": [
    "Sea **$U\\sim\\mathrm{Unif}(0,1)$**.\n",
    "\n",
    "$$\n",
    "F_X(x)=\\mathbb P(X\\le x)=\n",
    "\\begin{cases}\n",
    "0,& x<1,\\\\\n",
    "0.4,& 1\\le x<2,\\\\\n",
    "0.7,& 2\\le x<3,\\\\\n",
    "0.9,& 3\\le x<4,\\\\\n",
    "1,& x\\ge 4.\n",
    "\\end{cases}\n",
    "$$\n",
    "\n",
    "Encontrando la inversa:\n",
    "\n",
    "$$\n",
    "\\begin{aligned}\n",
    "F_X(x)=u \n",
    "&\\;\\iff\\; u\\in(0,0.4] \\;\\Rightarrow\\; x=1,\\\\\n",
    "&\\;\\iff\\; u\\in(0.4,0.7] \\;\\Rightarrow\\; x=2,\\\\\n",
    "&\\;\\iff\\; u\\in(0.7,0.9] \\;\\Rightarrow\\; x=3,\\\\\n",
    "&\\;\\iff\\; u\\in(0.9,1] \\;\\Rightarrow\\; x=4.\n",
    "\\end{aligned}\n",
    "$$\n",
    "\n",
    "Entonces:\n",
    "\n",
    "$$\n",
    "F_X^{-1}(u)=\n",
    "\\begin{cases}\n",
    "1,& 0<u\\le 0.4,\\\\\n",
    "2,& 0.4<u\\le 0.7,\\\\\n",
    "3,& 0.7<u\\le 0.9,\\\\\n",
    "4,& 0.9<u\\le 1.\n",
    "\\end{cases}\n",
    "$$\n",
    "\n",
    "Con $U\\sim\\mathrm{Unif}(0,1)$, $X:=F_X^{-1}(U)$ genera exactamente esa distribución discreta.\n"
   ]
  },
  {
   "cell_type": "code",
   "execution_count": null,
   "id": "3370d74e",
   "metadata": {},
   "outputs": [],
   "source": [
    "# TODO: implementa aquí\n"
   ]
  },
  {
   "cell_type": "markdown",
   "id": "0a9d9ba6",
   "metadata": {},
   "source": [
    "# Exponencial $\\mathrm{Exp}(\\lambda)$"
   ]
  },
  {
   "cell_type": "markdown",
   "id": "555736ac",
   "metadata": {},
   "source": [
    "Sea **$U\\sim\\mathrm{Unif}(0,1)$**. Si $X\\sim\\mathrm{Exp}(\\lambda)$, entonces su funcion de distribucion acumulada es:\n",
    "\n",
    "$$\n",
    "F_X(x)=\\bigl(1-e^{-\\lambda x}\\bigr)\\,\\mathbf{1}_{[0,\\infty)}(x)\n",
    "$$\n",
    "\n",
    "Encontrando la inversa:\n",
    "\n",
    "$$\n",
    "\\begin{aligned}\n",
    "F_X(x)=u &\\;\\iff\\; 1-e^{-\\lambda x}=u,\\\\\n",
    "         &\\;\\iff\\; e^{-\\lambda x}=1-u,\\\\\n",
    "         &\\;\\iff\\; -\\lambda x=\\ln(1-u),\\\\\n",
    "         &\\;\\iff\\; x=-\\frac{1}{\\lambda}\\,\\ln(1-u).\n",
    "\\end{aligned}\n",
    "$$\n",
    "\n",
    "Entonces:\n",
    "\n",
    "$$\n",
    "F_X^{-1}(u)=-\\frac{1}{\\lambda}\\,\\ln(1-u).\n",
    "$$\n",
    "\n",
    "Por lo tanto, con $U\\sim\\mathrm{Unif}(0,1)$,\n",
    "\n",
    "$$\n",
    "X=F_X^{-1}(U)=-\\frac{1}{\\lambda}\\ln(1-U)\\sim\\mathrm{Exp}(\\lambda).\n",
    "$$\n"
   ]
  },
  {
   "cell_type": "markdown",
   "id": "736a8aac",
   "metadata": {},
   "source": [
    "# Weibull $(r,\\lambda)$"
   ]
  },
  {
   "cell_type": "markdown",
   "id": "efe4791d",
   "metadata": {},
   "source": [
    "Sea **$U\\sim\\mathrm{Unif}(0,1)$**, con $r>0$ y $\\lambda>0$. Si $X\\sim\\mathrm{Weibull}(r,\\lambda)$, entonces su funcion de distribucion acumulada es:\n",
    "\n",
    "$$\n",
    "F_X(x)=\\bigl(1-e^{-(\\lambda x)^r}\\bigr)\\,\\mathbf{1}_{[0,\\infty)}(x)\n",
    "$$\n",
    "\n",
    "Encontrando la inversa:\n",
    "\n",
    "$$\n",
    "\\begin{aligned}\n",
    "F_X(x)=u &\\;\\iff\\; 1-e^{-(\\lambda x)^r}=u,\\\\\n",
    "         &\\;\\iff\\; e^{-(\\lambda x)^r}=1-u,\\\\\n",
    "         &\\;\\iff\\; -(\\lambda x)^r=\\ln(1-u),\\\\\n",
    "         &\\;\\iff\\; (\\lambda x)^r=-\\ln(1-u),\\\\\n",
    "         &\\;\\iff\\; x=\\frac{1}{\\lambda}\\,\\bigl[-\\ln(1-u)\\bigr]^{1/r}.\n",
    "\\end{aligned}\n",
    "$$\n",
    "\n",
    "Entonces:\n",
    "\n",
    "$$\n",
    "F_X^{-1}(u)=\\frac{1}{\\lambda}\\,\\bigl[-\\ln(1-u)\\bigr]^{1/r}.\n",
    "$$\n",
    "\n",
    "Por lo tanto, con $U\\sim\\mathrm{Unif}(0,1)$:\n",
    "\n",
    "$$\n",
    "X=F_X^{-1}(U)=\\frac{1}{\\lambda}\\,\\bigl[-\\ln(1-U)\\bigr]^{1/r}\\sim\\mathrm{Weibull}(r,\\lambda).\n",
    "$$\n"
   ]
  },
  {
   "cell_type": "markdown",
   "id": "66abf4e8",
   "metadata": {},
   "source": [
    "# Cauchy $(a,b)$"
   ]
  },
  {
   "cell_type": "markdown",
   "id": "ab7ce9d1",
   "metadata": {},
   "source": [
    "Sea **$U\\sim\\mathrm{Unif}(0,1)$**. Si $X\\sim\\mathrm{Cauchy}(a,b)$, entonces su funcion de distribucion acumulada es:\n",
    "\n",
    "$$\n",
    "F_X(x)=\\frac{1}{\\pi}\\arctan\\!\\Big(\\frac{x-a}{b}\\Big)+\\frac{1}{2},\\qquad x\\in\\mathbb{R},\\; b>0.\n",
    "$$\n",
    "\n",
    "Encontrando la inversa:\n",
    "\n",
    "$$\n",
    "\\begin{aligned}\n",
    "F_X(x)=u \n",
    "&\\;\\iff\\; \\frac{1}{\\pi}\\arctan\\!\\Big(\\frac{x-a}{b}\\Big)+\\frac{1}{2}=u,\\\\\n",
    "&\\;\\iff\\; \\arctan\\!\\Big(\\frac{x-a}{b}\\Big)=\\pi\\!\\left(u-\\tfrac{1}{2}\\right),\\\\\n",
    "&\\;\\iff\\; \\frac{x-a}{b}=\\tan\\!\\big(\\pi(u-\\tfrac{1}{2})\\big),\\\\\n",
    "&\\;\\iff\\; x=a+b\\,\\tan\\!\\big(\\pi(u-\\tfrac{1}{2})\\big).\n",
    "\\end{aligned}\n",
    "$$\n",
    "\n",
    "Entonces:\n",
    "\n",
    "$$\n",
    "F_X^{-1}(u)=a+b\\,\\tan\\!\\big(\\pi(u-\\tfrac{1}{2})\\big).\n",
    "$$\n",
    "\n",
    "Por lo tanto, $X=F_X^{-1}(U)=a+b\\,\\tan(\\pi(U-\\tfrac{1}{2}))\\sim\\mathrm{Cauchy}(a,b)$.\n"
   ]
  },
  {
   "cell_type": "markdown",
   "id": "b73bfe97",
   "metadata": {},
   "source": [
    "# Pareto I $(a,b)$"
   ]
  },
  {
   "cell_type": "markdown",
   "id": "469455de",
   "metadata": {},
   "source": [
    "Sea **$U\\sim\\mathrm{Unif}(0,1)$**, con $a>0$ y $b>0$. Si $X\\sim\\mathrm{Pareto\\ I}(a,b)$, entonces su funcion de distribucion acumulada es:\n",
    "\n",
    "$$\n",
    "F_X(x)=\\bigl(1-(b/x)^a\\bigr)\\,\\mathbf{1}_{[b,\\infty)}(x)\n",
    "$$\n",
    "\n",
    "Encontrando la inversa:\n",
    "\n",
    "$$\n",
    "\\begin{aligned}\n",
    "F_X(x)=u &\\;\\iff\\; 1-\\left(\\frac{b}{x}\\right)^a=u,\\\\\n",
    "         &\\;\\iff\\; \\left(\\frac{b}{x}\\right)^a=1-u,\\\\\n",
    "         &\\;\\iff\\; \\frac{b}{x}=(1-u)^{1/a},\\\\\n",
    "         &\\;\\iff\\; x=b\\,(1-u)^{-1/a}.\n",
    "\\end{aligned}\n",
    "$$\n",
    "\n",
    "Entonces:\n",
    "\n",
    "$$\n",
    "F_X^{-1}(u)=b\\,(1-u)^{-1/a}.\n",
    "$$\n",
    "\n",
    "Por lo tanto,\n",
    "\n",
    "$$\n",
    "X=F_X^{-1}(U)=b\\,(1-U)^{-1/a}\\sim\\mathrm{Pareto\\ I}(a,b).\n",
    "$$\n"
   ]
  },
  {
   "cell_type": "markdown",
   "id": "d8155612",
   "metadata": {},
   "source": [
    "# Mínimo $X_{(1)}=\\min\\{X_1,\\dots,X_n\\}$ — Inversa compuesta"
   ]
  },
  {
   "cell_type": "markdown",
   "id": "44fccc87",
   "metadata": {},
   "source": [
    "Sea **$U\\sim\\mathrm{Unif}(0,1)$** y $X_{(1)}:=\\min\\{X_1,\\dots,X_n\\}$ con $X_i$ i.i.d. de CDF $F$.\n",
    "\n",
    "$$\n",
    "F_{X_{(1)}}(x)=\\mathbb P(X_{(1)}\\le x)\n",
    "=1-\\mathbb P(X_1>x,\\dots,X_n>x)\n",
    "=1-\\bigl(1-F(x)\\bigr)^n.\n",
    "$$\n",
    "\n",
    "**Encontrando la inversa:**\n",
    "\n",
    "$$\n",
    "\\begin{aligned}\n",
    "F_{X_{(1)}}(x)=u \n",
    "&\\;\\iff\\; 1-\\bigl(1-F(x)\\bigr)^n=u,\\\\\n",
    "&\\;\\iff\\; \\bigl(1-F(x)\\bigr)^n=1-u,\\\\\n",
    "&\\;\\iff\\; 1-F(x)=(1-u)^{1/n},\\\\\n",
    "&\\;\\iff\\; F(x)=1-(1-u)^{1/n},\\\\\n",
    "&\\;\\iff\\; x=F^{-1}\\!\\bigl(1-(1-u)^{1/n}\\bigr).\n",
    "\\end{aligned}\n",
    "$$\n",
    "\n",
    "Entonces:\n",
    "\n",
    "$$\n",
    "F_{X_{(1)}}^{-1}(u)=F^{-1}\\!\\bigl(1-(1-u)^{1/n}\\bigr),\\quad 0<u<1.\n",
    "$$\n",
    "\n",
    "**Muestreo por transformada inversa:**\n",
    "\n",
    "$$\n",
    "X_{(1)}=F_{X_{(1)}}^{-1}(U)=F^{-1}\\!\\bigl(1-(1-U)^{1/n}\\bigr).\n",
    "$$\n",
    "\n",
    "> Si $F$ no es estrictamente creciente, use la inversa generalizada de $F$. Alternativamente, genere $X_i=F^{-1}(U_i)$ i.i.d. y devuelva $\\min_i X_i$.\n"
   ]
  },
  {
   "cell_type": "markdown",
   "id": "8f737bd4",
   "metadata": {},
   "source": [
    "# Mixta $X=\\min\\{Y,M\\}$ con $Y\\sim\\mathrm{Exp}(\\lambda)$"
   ]
  },
  {
   "cell_type": "markdown",
   "id": "685de51e",
   "metadata": {},
   "source": [
    "Caracteriza la cdf, localiza la masa en $x=M$ y construye $F^{-1}$ con caso discreto/continuo.\n",
    "Implementa `sample_min_exp_M(lam, M, N)`."
   ]
  },
  {
   "cell_type": "code",
   "execution_count": null,
   "id": "b6ea7730",
   "metadata": {},
   "outputs": [],
   "source": [
    "# TODO: implementa aquí\n"
   ]
  },
  {
   "cell_type": "markdown",
   "id": "503f5945",
   "metadata": {},
   "source": [
    "# Mixta $X=\\max\\{Y,M\\}$ con $Y\\sim\\mathrm{Exp}(\\lambda)$"
   ]
  },
  {
   "cell_type": "markdown",
   "id": "2478c983",
   "metadata": {},
   "source": [
    "Sea **$Y\\sim\\mathrm{Exp}(\\lambda)$** y $M>0$. Defina $X=\\max\\{Y,M\\}$.\n",
    "\n",
    "**CDF**\n",
    "\n",
    "$$\n",
    "F_X(x)=\\mathbb P(X\\le x)=\n",
    "\\begin{cases}\n",
    "0,& x<M,\\\\[4pt]\n",
    "1-e^{-\\lambda x},& x\\ge M,\n",
    "\\end{cases}\n",
    "$$\n",
    "\n",
    "con salto en $x=M$ de tamaño $1-e^{-\\lambda M}$.\n",
    "\n",
    "**Inversa (cuantil generalizado $F_X^{-1}(u)=\\inf\\{x:F_X(x)\\ge u\\}$)**\n",
    "\n",
    "\n",
    "Sea **$U\\sim\\mathrm{Unif}(0,1)$**.\n",
    "\n",
    "$$\n",
    "F_X^{-1}(u)=\n",
    "\\begin{cases}\n",
    "M,& 0<u\\le 1-e^{-\\lambda M},\\\\[6pt]\n",
    "-\\dfrac{1}{\\lambda}\\ln(1-u),& 1-e^{-\\lambda M}<u<1,\n",
    "\\end{cases}\n",
    "$$\n",
    "\n",
    "y además $F_X^{-1}(0^+)=M$ y $F_X^{-1}(1)=+\\infty$.\n",
    "\n",
    "> Para muestrear: si $U\\le 1-e^{-\\lambda M}$ devuelve $M$; en caso contrario devuelve $-\\frac1\\lambda\\ln(1-U)$.\n"
   ]
  },
  {
   "cell_type": "markdown",
   "id": "75d499a8",
   "metadata": {},
   "source": [
    "c) **Probar $F(F^{-1}(u))\\ge u$, $0<u<1$.**\n",
    "Defina el cuantil generalizado $F^{-1}(u):=\\inf\\{x:\\,F(x)\\ge u\\}$. Sea $S_u=\\{x:\\,F(x)\\ge u\\}$. Para todo $\\varepsilon>0$ existe $x_\\varepsilon\\in S_u$ con $x_\\varepsilon\\le F^{-1}(u)+\\varepsilon$. Entonces\n",
    "\n",
    "$$\n",
    "F\\big(F^{-1}(u)+\\varepsilon\\big)\\ \\ge\\ u.\n",
    "$$\n",
    "\n",
    "Por derecha-continuidad,\n",
    "\n",
    "$$\n",
    "F\\!\\big(F^{-1}(u)\\big)=\\lim_{\\varepsilon\\downarrow0}F\\big(F^{-1}(u)+\\varepsilon\\big)\\ \\ge\\ u.\n",
    "$$\n",
    "\n",
    "**Verificación para $X=\\max\\{Y,M\\}$.** Con $p_0:=1-e^{-\\lambda M}$,\n",
    "\n",
    "$$\n",
    "F^{-1}(u)=\n",
    "\\begin{cases}\n",
    "M,& 0<u\\le p_0,\\\\\n",
    "-\\frac1\\lambda\\ln(1-u),& p_0<u<1.\n",
    "\\end{cases}\n",
    "$$\n",
    "\n",
    "Luego $F(F^{-1}(u))=F(M)=p_0\\ge u$ si $u\\le p_0$, y $F(-\\tfrac1\\lambda\\ln(1-u))=u$ si $u>p_0$.\n",
    "\n",
    "\n",
    "d) **Probar $F^{-1}(F(x))\\le x$ cuando $0<F(x)<1$.**\n",
    "Tome $u=F(x)$. El conjunto $S_u=\\{t:\\,F(t)\\ge u\\}$ contiene a $x$ (trivialmente $F(x)\\ge u$). Por lo tanto\n",
    "\n",
    "$$\n",
    "F^{-1}(F(x))=\\inf S_u\\ \\le\\ x.\n",
    "$$\n",
    "\n",
    "La igualdad se da cuando $F$ es continua en $x$.\n",
    "\n",
    "**Verificación para $X=\\max\\{Y,M\\}$.** Si $x>M$,\n",
    "\n",
    "$$\n",
    "F^{-1}(F(x))=-\\frac1\\lambda\\ln\\!\\big(1-(1-e^{-\\lambda x})\\big)=x.\n",
    "$$\n",
    "\n",
    "Si $x=M$, $F^{-1}(F(M))=F^{-1}(p_0)=M=x$.\n",
    "\n",
    "\n",
    "\n",
    "e) **Generación por transformada inversa.**\n",
    "Con $p_0:=1-e^{-\\lambda M}$ y $U\\sim\\mathrm{Unif}(0,1)$:\n",
    "\n",
    "$$\n",
    "X=\n",
    "\\begin{cases}\n",
    "M, & U\\le p_0,\\\\[4pt]\n",
    "-\\dfrac1\\lambda\\ln(1-U), & U>p_0.\n",
    "\\end{cases}\n",
    "$$\n",
    "\n",
    "Es todo.\n"
   ]
  },
  {
   "cell_type": "markdown",
   "id": "5af96ca5",
   "metadata": {},
   "source": [
    "# Variable con CDF por tramos"
   ]
  },
  {
   "cell_type": "markdown",
   "id": "8b28fe09",
   "metadata": {},
   "source": [
    "Sea **$U\\sim\\mathrm{Unif}(0,1)$**.\n",
    "\n",
    "$$\n",
    "F_X(x)=\n",
    "\\begin{cases}\n",
    "0,& x\\le -2,\\\\[2pt]\n",
    "\\dfrac{x+2}{2},& -2<x<-1,\\\\[8pt]\n",
    "\\dfrac12,& -1\\le x<1,\\\\[6pt]\n",
    "\\dfrac{x}{2},& 1\\le x<2,\\\\[6pt]\n",
    "1,& x\\ge 2.\n",
    "\\end{cases}\n",
    "$$\n",
    "\n",
    "**Encontrando la inversa:**\n",
    "\n",
    "* Para $x\\le -2$, $u\\in\\{0\\}$: $F_X^{-1}(0)=-2$ *(convención en el extremo)*.\n",
    "* Para $-2<x<-1$, $u\\in(0,\\tfrac12)$:\n",
    "\n",
    "  $$\n",
    "  \\begin{aligned}\n",
    "  F_X(x)=u &\\iff \\frac{x+2}{2}=u,\\\\\n",
    "           &\\iff x=2u-2.\n",
    "  \\end{aligned}\n",
    "  $$\n",
    "* Para $-1\\le x<1$, $u\\in\\{\\tfrac12\\}$: meseta $\\Rightarrow F_X^{-1}(\\tfrac12)=-1$ (borde izquierdo).\n",
    "* Para $1\\le x<2$, $u\\in(\\tfrac12,1)$:\n",
    "\n",
    "  $$\n",
    "  \\begin{aligned}\n",
    "  F_X(x)=u &\\iff \\frac{x}{2}=u,\\\\\n",
    "           &\\iff x=2u.\n",
    "  \\end{aligned}\n",
    "  $$\n",
    "* Para $x\\ge 2$, $u\\in\\{1\\}$: $F_X^{-1}(1)=2$.\n",
    "\n",
    "**Entonces:**\n",
    "\n",
    "$$\n",
    "F_X^{-1}(u)=\n",
    "\\begin{cases}\n",
    "-2,& u=0,\\\\[4pt]\n",
    "2u-2,& 0<u<\\tfrac12,\\\\[4pt]\n",
    "-1,& u=\\tfrac12,\\\\[4pt]\n",
    "2u,& \\tfrac12<u<1,\\\\[4pt]\n",
    "2,& u=1.\n",
    "\\end{cases}\n",
    "$$\n"
   ]
  },
  {
   "cell_type": "markdown",
   "id": "d82ca5ab",
   "metadata": {},
   "source": [
    "# Bernoulli $(p)$ desde $U(0,1)$"
   ]
  },
  {
   "cell_type": "markdown",
   "id": "fffb2187",
   "metadata": {},
   "source": [
    "Sea **$U\\sim\\mathrm{Unif}(0,1)$** y $0<p<1$. Defina\n",
    "\n",
    "$$\n",
    "X=\\mathbf 1_{(0,p]}(U)=\n",
    "\\begin{cases}\n",
    "1,& U\\le p,\\\\\n",
    "0,& U>p.\n",
    "\\end{cases}\n",
    "$$\n",
    "\n",
    "**PMF.**\n",
    "\n",
    "$$\n",
    "\\mathbb P(X=1)=\\mathbb P(U\\le p)=p,\\qquad\n",
    "\\mathbb P(X=0)=\\mathbb P(U>p)=1-p,\n",
    "$$\n",
    "\n",
    "usando que $\\mathbb P(U=p)=0$. Por tanto $X\\sim \\mathrm{Bernoulli}(p)$.\n",
    "\n",
    "**CDF.**\n",
    "\n",
    "$$\n",
    "F_X(x)=\n",
    "\\begin{cases}\n",
    "0,& x<0,\\\\\n",
    "1-p,& 0\\le x<1,\\\\\n",
    "1,& x\\ge 1.\n",
    "\\end{cases}\n",
    "$$\n",
    "\n",
    "**Inversa generalizada.** Para $u\\in(0,1)$,\n",
    "\n",
    "$$\n",
    "F_X^{-1}(u)=\n",
    "\\begin{cases}\n",
    "0,& 0<u\\le 1-p,\\\\\n",
    "1,& 1-p<u<1,\n",
    "\\end{cases}\n",
    "\\quad\\text{y}\\quad F_X^{-1}(1)=1.\n",
    "$$\n",
    "\n",
    "Así, $F_X^{-1}(U)=\\mathbf 1_{(1-p,1]}(U)\\stackrel{d}{=}\\mathbf 1_{(0,p]}(U)=X$.\n"
   ]
  },
  {
   "cell_type": "markdown",
   "id": "9895c7d5",
   "metadata": {},
   "source": [
    "# Variable aleatoria discreta"
   ]
  },
  {
   "cell_type": "markdown",
   "id": "87763269",
   "metadata": {},
   "source": [
    "$$\n",
    "f_X(x)=\n",
    "\\begin{cases}\n",
    "0.3& x=1,\\\\\n",
    "0.5,& x=2,\\\\\n",
    "0.2,& x=3,\\\\\n",
    "0,& \\text{en otro caso.}\n",
    "\\end{cases}\n",
    "$$\n",
    "\n",
    "\n",
    "Sea **$U\\sim\\mathrm{Unif}(0,1)$**.\n",
    "\n",
    "$$\n",
    "F_X(x)=\\mathbb P(X\\le x)=\n",
    "\\begin{cases}\n",
    "0,& x<1,\\\\\n",
    "0.3,& 1\\le x<2,\\\\\n",
    "0.8,& 2\\le x<3,\\\\\n",
    "1,& x\\ge 3.\n",
    "\\end{cases}\n",
    "$$\n",
    "\n",
    "## Encontrando la inversa:\n",
    "\n",
    "$$\n",
    "\\begin{aligned}\n",
    "F_X(x)=u &\\;\\iff\\; u\\in(0,0.3]\\ \\Rightarrow\\ x=1,\\\\\n",
    "         &\\;\\iff\\; u\\in(0.3,0.8]\\ \\Rightarrow\\ x=2,\\\\\n",
    "         &\\;\\iff\\; u\\in(0.8,1]\\ \\Rightarrow\\ x=3.\n",
    "\\end{aligned}\n",
    "$$\n",
    "\n",
    "Entonces:\n",
    "\n",
    "$$\n",
    "F_X^{-1}(u)=\n",
    "\\begin{cases}\n",
    "1,& 0<u\\le 0.3,\\\\\n",
    "2,& 0.3<u\\le 0.8,\\\\\n",
    "3,& 0.8<u\\le 1.\n",
    "\\end{cases}\n",
    "$$\n",
    "\n",
    "## Valor esperado\n",
    "$$\n",
    "\\mathbb E[X]=\\sum_{x=1}^{3}x\\cdot f_X(x)=1\\cdot 0.3+2\\cdot 0.5+3\\cdot 0.2=1.9.\n",
    "$$\n",
    "\n",
    "## Varianza\n",
    "$$\n",
    "\\mathbb V[X]=\\sum_{x=1}^{3}(x-\\mathbb E[X])^2\\cdot f_X(x)=\n",
    "(1-1.9)^2\\cdot 0.3+(2-1.9)^2\\cdot 0.5+(3-1.9)^2\\cdot 0.2=0.49.\n",
    "$$\n",
    "\n",
    "$$\n",
    "\\mathbb V[X] = \\mathbb E[X^2] - (\\mathbb E[X])^2 = \n",
    "0.3\\cdot 1^2 + 0.5\\cdot 2^2 + 0.2\\cdot 3^2 - (1.9)^2 = 2.79 - (1.9)^2 = 0.49.\n",
    "$$"
   ]
  },
  {
   "cell_type": "code",
   "execution_count": null,
   "id": "7659c2fb",
   "metadata": {},
   "outputs": [
    {
     "name": "stderr",
     "output_type": "stream",
     "text": [
      "C:\\Users\\herie\\AppData\\Local\\Temp\\ipykernel_21824\\3818021713.py:14: UserWarning: color is redundantly defined by the 'color' keyword argument and the fmt string \"bo\" (-> color='b'). The keyword argument will take precedence.\n",
      "  plt.plot(x, f_x, 'bo', color=color[0])\n"
     ]
    },
    {
     "data": {
      "image/png": "[encoded data removed]",
      "text/plain": [
       "<Figure size 640x480 with 1 Axes>"
      ]
     },
     "metadata": {},
     "output_type": "display_data"
    }
   ],
   "source": [
    "# graficar f\n",
    "import matplotlib.pyplot as plt\n",
    "import seaborn as sns\n",
    "import numpy as np\n",
    "from collections import Counter\n",
    "\n",
    "\n",
    "\n",
    "\n",
    "color = sns.color_palette(\"hls\")\n",
    "np.random.shuffle(color)\n",
    "sns.set(style=\"whitegrid\", context=\"paper\", palette=color)\n",
    "\n",
    "x = [1, 2, 3]\n",
    "f_x = [0.3, 0.5, 0.2]\n",
    "\n",
    "plt.vlines(x, 0, f_x, color=color[0], linestyle='-', lw=2)\n",
    "plt.plot(x, f_x, 'bo', color=color[0])\n",
    "plt.xlabel('X')\n",
    "plt.ylabel('f_X(x)')\n",
    "plt.title('Distribución de Probabilidad de la Variable Aleatoria Discreta')\n",
    "plt.show()"
   ]
  },
  {
   "cell_type": "code",
   "execution_count": 141,
   "id": "4db4f127",
   "metadata": {},
   "outputs": [
    {
     "data": {
      "image/png": "[encoded data removed]",
      "text/plain": [
       "<Figure size 640x480 with 1 Axes>"
      ]
     },
     "metadata": {},
     "output_type": "display_data"
    }
   ],
   "source": [
    "# graficar F\n",
    "\n",
    "F_x = np.cumsum(f_x)\n",
    "\n",
    "plt.step(x, F_x, where='post', marker='o', linestyle='-', color=color[0])\n",
    "plt.xlabel('X')\n",
    "plt.ylabel('F_X(x)')\n",
    "plt.title('Función de Distribución Acumulativa de la Variable Aleatoria Discreta')\n",
    "plt.grid(True)\n",
    "plt.xlim(0, 4)\n",
    "plt.ylim(-0.2, 1.2)\n",
    "\n",
    "# a line from 0,0 to 1,0\n",
    "plt.plot([0, 1], [0, 0], linestyle='-', color=color[0])\n",
    "plt.plot([3, 4], [1, 1], linestyle='-', color=color[0])\n",
    "plt.plot([1, 1], [0, 0.3], linestyle='-', color=color[0])\n",
    "\n",
    "\n",
    "plt.show()\n",
    "\n"
   ]
  },
  {
   "cell_type": "code",
   "execution_count": 154,
   "id": "20130ece",
   "metadata": {},
   "outputs": [
    {
     "name": "stderr",
     "output_type": "stream",
     "text": [
      "c:\\Users\\herie\\miniconda3\\envs\\u\\Lib\\site-packages\\IPython\\core\\pylabtools.py:170: UserWarning: Glyph 8315 (\\N{SUPERSCRIPT MINUS}) missing from font(s) Arial.\n",
      "  fig.canvas.print_figure(bytes_io, **kw)\n"
     ]
    },
    {
     "data": {
      "image/png": "[encoded data removed]",
      "text/plain": [
       "<Figure size 640x480 with 1 Axes>"
      ]
     },
     "metadata": {},
     "output_type": "display_data"
    }
   ],
   "source": [
    "# Definir los puntos de quiebre y los valores correspondientes de F⁻¹(u)\n",
    "u_vals = np.array([0, 0.3, 0.3, 0.8, 0.8, 1.0])\n",
    "F_inv_values = [1, 1, 2, 2, 3, 3]\n",
    "\n",
    "plt.step(u_vals, F_inv_values, where='post', marker='o', color=color[0])\n",
    "plt.xlabel('u')\n",
    "plt.ylabel('F⁻¹(u)')\n",
    "plt.title('Función Inversa de la Distribución Acumulativa')\n",
    "plt.grid(True)\n",
    "plt.xlim(-0.2, 1.2)\n",
    "plt.ylim(-0.5, 3.5)\n",
    "\n",
    "plt.plot([-0.2, 0], [0, 0], linestyle='-', color=color[0])\n",
    "plt.plot([0, 0], [0, 1], linestyle='-', color=color[0])\n",
    "plt.plot([1, 1.2], [3, 3], linestyle='-', color=color[0])\n",
    "\n",
    "plt.show()\n"
   ]
  },
  {
   "cell_type": "code",
   "execution_count": 192,
   "id": "fd71cd78",
   "metadata": {},
   "outputs": [
    {
     "data": {
      "image/png": "[encoded data removed]",
      "text/plain": [
       "<Figure size 640x480 with 1 Axes>"
      ]
     },
     "metadata": {},
     "output_type": "display_data"
    }
   ],
   "source": [
    "# Elabore un programa de cómputo que use el método de la función\n",
    "# inversa para generar n = 200 valores x1, . . . , xn de X.\n",
    "\n",
    "F_inv = lambda u: np.interp(u, u_vals, F_inv_values)\n",
    "n = 200\n",
    "u_random = np.random.uniform(0, 1, n)\n",
    "x_generated = F_inv(u_random)\n",
    "# Compute the frequency of each generated value\n",
    "counter = Counter(x_generated)\n",
    "# Extract the unique outcomes and their relative frequencies\n",
    "x_vals = np.array(sorted(counter.keys()))\n",
    "freq = np.array([counter[val] for val in x_vals]) / n  # relative frequencies\n",
    "\n",
    "# Plot the histogram (using bar plot for discrete values)\n",
    "plt.bar(x_vals, freq, width=0.2, alpha=0.6, color='g', label='Histograma (frecuencias relativas)')\n",
    "\n",
    "# Overlay the theoretical probabilities\n",
    "plt.plot(x, f_x, 'bo', markersize=10, label='Teórica')\n",
    "\n",
    "plt.xlabel('Valores generados')\n",
    "plt.ylabel('Probabilidad')\n",
    "plt.title('Histograma de valores generados por el método de la función inversa')\n",
    "plt.grid(True)\n",
    "plt.legend()\n",
    "plt.show()\n"
   ]
  },
  {
   "cell_type": "markdown",
   "id": "0c269700",
   "metadata": {},
   "source": [
    "# Binomial, Geométrica y Poisson"
   ]
  },
  {
   "cell_type": "markdown",
   "id": "186e2f5a",
   "metadata": {},
   "source": [
    "Implementa generadores por inversión para:\n",
    "- $X\\sim\\mathrm{Bin}(m,p)$ con $m = 10$ y $p = 1/3$\n",
    "- $X\\sim\\mathrm{Geo}(p)$ con $\\mathbb P(X=k)=p(1-p)^{k-1}$, $k\\ge 1$ con $p = 3/4$\n",
    "- $X\\sim\\mathrm{Poisson}(\\lambda)$ con $\\lambda = 2$\n"
   ]
  },
  {
   "cell_type": "markdown",
   "id": "4bd9ed01",
   "metadata": {},
   "source": [
    "## Binomial"
   ]
  },
  {
   "cell_type": "code",
   "execution_count": 47,
   "id": "e31ef840",
   "metadata": {},
   "outputs": [
    {
     "name": "stdout",
     "output_type": "stream",
     "text": [
      "media≈2.910  var≈2.305  (teóricas: 3.000, 2.100)\n",
      "[3, 0, 2, 2, 4, 4, 5, 1, 3, 1, 2, 3, 0, 2, 4, 3, 2, 3, 4, 0]\n"
     ]
    }
   ],
   "source": [
    "import math, random\n",
    "\n",
    "def rbinom_inv(ntrials: int, p: float, size: int, seed: int | None = None):\n",
    "    \"\"\"Binomial(ntrials, p) por transformada inversa.\"\"\"\n",
    "    if not (0 <= p <= 1): \n",
    "        raise ValueError(\"p debe estar en [0,1].\")\n",
    "    if seed is not None:\n",
    "        random.seed(seed)\n",
    "    if p == 0: \n",
    "        return [0]*size\n",
    "    if p == 1: \n",
    "        return [ntrials]*size\n",
    "\n",
    "    c = p/(1.0 - p)                 # paso 2: c\n",
    "    out = []\n",
    "    for _ in range(size):\n",
    "        U  = random.random()        # paso 1\n",
    "        i  = 0                      # paso 2\n",
    "        pr = (1.0 - p)**ntrials     # pr = P(X=0)\n",
    "        F  = pr\n",
    "        if U < F:                   # paso 3–5\n",
    "            out.append(i); continue\n",
    "        while True:                 # paso 6\n",
    "            pr *= c * (ntrials - i) / (i + 1)  # paso 7\n",
    "            F  += pr\n",
    "            i  += 1\n",
    "            if U < F or i == ntrials:          # paso 8–11 (con tope)\n",
    "                out.append(i)\n",
    "                break\n",
    "    return out\n",
    "\n",
    "# Ejemplo rápido\n",
    "random.seed(42)\n",
    "m = rbinom_inv(ntrials=10, p=0.3, size=100)\n",
    "mu = sum(m)/len(m)\n",
    "var = sum((x-mu)**2 for x in m)/(len(m)-1)\n",
    "print(f\"media≈{mu:.3f}  var≈{var:.3f}  (teóricas: {10*0.3:.3f}, {10*0.3*0.7:.3f})\")\n",
    "print(m[:20])"
   ]
  },
  {
   "cell_type": "markdown",
   "id": "d102fc50",
   "metadata": {},
   "source": [
    "## Geometrica"
   ]
  },
  {
   "cell_type": "code",
   "execution_count": 45,
   "id": "9e285f69",
   "metadata": {},
   "outputs": [
    {
     "name": "stdout",
     "output_type": "stream",
     "text": [
      "[2, 5, 4, 3, 4, 4, 3, 1, 2, 2, 3, 1, 3, 2, 5, 7, 6, 3, 3, 3]\n"
     ]
    }
   ],
   "source": [
    "import math, random\n",
    "\n",
    "def rgeom_inv_trials(p: float, n: int):\n",
    "    \"\"\"Geom(p) en {1,2,...} por inversión: floor(log(U)/log(1-p))+1.\"\"\"\n",
    "    out = []\n",
    "    for _ in range(n):\n",
    "        u = random.random()       \n",
    "        x = math.ceil(math.log(u) / math.log(1.0 - p))\n",
    "        out.append(x)\n",
    "    return out\n",
    "\n",
    "# Ejemplo: p=0.3, n=100\n",
    "random.seed(random.random())\n",
    "muestras = rgeom_inv_trials(0.3, 100)\n",
    "print(muestras[:20])\n"
   ]
  },
  {
   "cell_type": "markdown",
   "id": "641c4cbe",
   "metadata": {},
   "source": [
    "## Poisson"
   ]
  },
  {
   "cell_type": "code",
   "execution_count": 46,
   "id": "dc7beeee",
   "metadata": {},
   "outputs": [
    {
     "name": "stdout",
     "output_type": "stream",
     "text": [
      "[2, 0, 1, 1, 3, 3, 4, 0, 2, 0, 1, 2, 0, 1, 2, 2, 1, 2, 3, 0]\n"
     ]
    }
   ],
   "source": [
    "import math, random\n",
    "\n",
    "def rpois_inv(lam: float, n: int, seed: int | None = None):\n",
    "    \"\"\"Poisson(lam) por transformada inversa, siguiendo el algoritmo dado.\"\"\"\n",
    "    if lam <= 0: \n",
    "        raise ValueError(\"lam debe ser > 0\")\n",
    "    if seed is not None:\n",
    "        random.seed(seed)\n",
    "\n",
    "    out = []\n",
    "    for _ in range(n):\n",
    "        # 1) U ~ U(0,1)\n",
    "        U = random.random()\n",
    "        # 2) i=0, p=e^{-lam}, F=p\n",
    "        i = 0\n",
    "        p = math.exp(-lam)\n",
    "        F = p\n",
    "        # 3) if U < F: X=i\n",
    "        if U < F:\n",
    "            out.append(i)\n",
    "            continue\n",
    "        # 6–11) loop: p = (lam/(i+1))*p; F = F + p; i = i + 1; if U < F: X=i\n",
    "        while True:\n",
    "            i += 1\n",
    "            p = p * lam / i\n",
    "            F = F + p\n",
    "            if U < F:\n",
    "                out.append(i)\n",
    "                break\n",
    "    return out\n",
    "\n",
    "# Ejemplo solicitado: λ=2, n=100\n",
    "muestras = rpois_inv(lam=2.0, n=100, seed=42)\n",
    "print(muestras[:20])\n"
   ]
  }
 ],
 "metadata": {
  "kernelspec": {
   "display_name": "u",
   "language": "python",
   "name": "python3"
  },
  "language_info": {
   "codemirror_mode": {
    "name": "ipython",
    "version": 3
   },
   "file_extension": ".py",
   "mimetype": "text/x-python",
   "name": "python",
   "nbconvert_exporter": "python",
   "pygments_lexer": "ipython3",
   "version": "3.11.13"
  }
 },
 "nbformat": 4,
 "nbformat_minor": 5
}
