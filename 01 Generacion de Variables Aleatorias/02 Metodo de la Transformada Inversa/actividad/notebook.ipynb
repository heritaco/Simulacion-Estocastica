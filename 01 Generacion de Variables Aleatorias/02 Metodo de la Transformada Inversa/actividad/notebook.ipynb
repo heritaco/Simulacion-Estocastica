{
 "cells": [
  {
   "cell_type": "markdown",
   "id": "a1b5cfcd",
   "metadata": {},
   "source": [
    "# Actividad — Plantilla de Simulación por Inversa\n",
    "**Instrucciones:** Escribe las demostraciones en *Markdown* con $\\LaTeX$ y completa las celdas de código con tu implementación. No hay soluciones pre‑llenadas."
   ]
  },
  {
   "cell_type": "code",
   "execution_count": null,
   "id": "8143dc55",
   "metadata": {},
   "outputs": [],
   "source": [
    "# IMPORTS BÁSICOS (puedes modificar)\n",
    "import numpy as np\n",
    "import math\n",
    "import matplotlib.pyplot as plt\n",
    "\n",
    "# Control de aleatoriedad\n",
    "seed = 2025\n",
    "rng = np.random.default_rng(seed)"
   ]
  },
  {
   "cell_type": "markdown",
   "id": "9c12d3b2",
   "metadata": {},
   "source": [
    "## 1) Distribución Uniforme $(a,b)$ — Inversa"
   ]
  },
  {
   "cell_type": "markdown",
   "id": "d5f8e564",
   "metadata": {},
   "source": [
    "Sea $U\\sim\\mathrm{Unif}(0,1)$. Demuestra por el método de la función inversa que\n",
    "$$X=a+(b-a)U\\sim\\mathrm{Unif}(a,b).$$\n",
    "**Entrega:** demostración formal en MD y una función generadora `sample_unif(a,b,n)`."
   ]
  },
  {
   "cell_type": "code",
   "execution_count": null,
   "id": "9a587da7",
   "metadata": {},
   "outputs": [],
   "source": [
    "# TODO: implementa aquí\n"
   ]
  },
  {
   "cell_type": "markdown",
   "id": "579f89ad",
   "metadata": {},
   "source": [
    "## 2) Distribución Discreta — Inversa"
   ]
  },
  {
   "cell_type": "markdown",
   "id": "94cbd904",
   "metadata": {},
   "source": [
    "Sea $X$ con soporte finito $\\{x_1,\\ldots,x_k\\}$ y pmf $\\{p_1,\\ldots,p_k\\}$.\n",
    "1) Define $F$ y grafica. 2) Obtén $F^{-1}$ por tramos. 3) Implementa `sample_disc(supp, pmf, n)`."
   ]
  },
  {
   "cell_type": "code",
   "execution_count": null,
   "id": "3370d74e",
   "metadata": {},
   "outputs": [],
   "source": [
    "# TODO: implementa aquí\n"
   ]
  },
  {
   "cell_type": "markdown",
   "id": "0a9d9ba6",
   "metadata": {},
   "source": [
    "## 3) Exponencial $\\mathrm{Exp}(\\lambda)$ — Inversa"
   ]
  },
  {
   "cell_type": "markdown",
   "id": "0cf5b74e",
   "metadata": {},
   "source": [
    "Demuestra que si $U\\sim\\mathrm{Unif}(0,1)$ entonces\n",
    "$$X = -\\frac{1}{\\lambda}\\ln(1-U)\\sim \\mathrm{Exp}(\\lambda).$$\n",
    "Implementa `sample_exp(lam, n)` y prepara gráficas para validar."
   ]
  },
  {
   "cell_type": "code",
   "execution_count": null,
   "id": "b8ea0242",
   "metadata": {},
   "outputs": [],
   "source": [
    "# TODO: implementa aquí\n"
   ]
  },
  {
   "cell_type": "markdown",
   "id": "736a8aac",
   "metadata": {},
   "source": [
    "## 4) Weibull $(r,\\lambda)$ — Inversa"
   ]
  },
  {
   "cell_type": "markdown",
   "id": "efe4791d",
   "metadata": {},
   "source": [
    "Usa inversión para la parametrización con *shape* $r>0$ y *rate* $\\lambda>0$ (o documenta si usas *scale*).\n",
    "Implementa `sample_weibull(r, lam, n)`."
   ]
  },
  {
   "cell_type": "code",
   "execution_count": null,
   "id": "66501348",
   "metadata": {},
   "outputs": [],
   "source": [
    "# TODO: implementa aquí\n"
   ]
  },
  {
   "cell_type": "markdown",
   "id": "66abf4e8",
   "metadata": {},
   "source": [
    "## 5) Cauchy $(a,b)$ — Inversa"
   ]
  },
  {
   "cell_type": "markdown",
   "id": "ab7ce9d1",
   "metadata": {},
   "source": [
    "Obtén $F^{-1}$ y la transformación desde $U\\sim(0,1)$. Implementa `sample_cauchy(a,b,n)`."
   ]
  },
  {
   "cell_type": "code",
   "execution_count": null,
   "id": "fcea45bb",
   "metadata": {},
   "outputs": [],
   "source": [
    "# TODO: implementa aquí\n"
   ]
  },
  {
   "cell_type": "markdown",
   "id": "b73bfe97",
   "metadata": {},
   "source": [
    "## 6) Pareto I $(a,b)$ — Inversa"
   ]
  },
  {
   "cell_type": "markdown",
   "id": "469455de",
   "metadata": {},
   "source": [
    "Deriva la forma de $F^{-1}$ para $\\mathrm{Pareto}(a,b)$ con $a>0$, $b>0$.\n",
    "Implementa `sample_pareto(a,b,n)` y diseña verificación gráfica."
   ]
  },
  {
   "cell_type": "code",
   "execution_count": null,
   "id": "f36112e4",
   "metadata": {},
   "outputs": [],
   "source": [
    "# TODO: implementa aquí\n"
   ]
  },
  {
   "cell_type": "markdown",
   "id": "d8155612",
   "metadata": {},
   "source": [
    "## 7) Mínimo $X_{(1)}=\\min\\{X_1,\\dots,X_n\\}$ — Inversa compuesta"
   ]
  },
  {
   "cell_type": "markdown",
   "id": "44fccc87",
   "metadata": {},
   "source": [
    "Si $F$ es la cdf base, demuestra que $F_{(1)}(x)=1-(1-F(x))^n$ y deduce una fórmula para $F^{-1}_{(1)}$ vía $F^{-1}$.\n",
    "Implementa `sample_min_via_base(Finv_base, n_sample, N)`."
   ]
  },
  {
   "cell_type": "code",
   "execution_count": null,
   "id": "05d95f95",
   "metadata": {},
   "outputs": [],
   "source": [
    "# TODO: implementa aquí\n"
   ]
  },
  {
   "cell_type": "markdown",
   "id": "8f737bd4",
   "metadata": {},
   "source": [
    "## 8) Mixta $X=\\min\\{Y,M\\}$ con $Y\\sim\\mathrm{Exp}(\\lambda)$"
   ]
  },
  {
   "cell_type": "markdown",
   "id": "685de51e",
   "metadata": {},
   "source": [
    "Caracteriza la cdf, localiza la masa en $x=M$ y construye $F^{-1}$ con caso discreto/continuo.\n",
    "Implementa `sample_min_exp_M(lam, M, N)`."
   ]
  },
  {
   "cell_type": "code",
   "execution_count": null,
   "id": "b6ea7730",
   "metadata": {},
   "outputs": [],
   "source": [
    "# TODO: implementa aquí\n"
   ]
  },
  {
   "cell_type": "markdown",
   "id": "503f5945",
   "metadata": {},
   "source": [
    "## 9) Mixta $X=\\max\\{Y,M\\}$ con $Y\\sim\\mathrm{Exp}(\\lambda)$"
   ]
  },
  {
   "cell_type": "markdown",
   "id": "768e6c65",
   "metadata": {},
   "source": [
    "Análogo al anterior. Especifica la masa en $x=M$ y la inversión resultante.\n",
    "Implementa `sample_max_exp_M(lam, M, N)`."
   ]
  },
  {
   "cell_type": "code",
   "execution_count": null,
   "id": "63d02c03",
   "metadata": {},
   "outputs": [],
   "source": [
    "# TODO: implementa aquí\n"
   ]
  },
  {
   "cell_type": "markdown",
   "id": "5af96ca5",
   "metadata": {},
   "source": [
    "## 10) Variable con CDF por tramos — Inversa manual"
   ]
  },
  {
   "cell_type": "markdown",
   "id": "8b28fe09",
   "metadata": {},
   "source": [
    "Da una cdf a trozos (incluye posibles mesetas). 1) Grafica $F$. 2) Deriva $F^{-1}$ con cuidado en discontinuidades. 3) Implementa `Finv_piece(u)` y `sample_piece(n)`."
   ]
  },
  {
   "cell_type": "code",
   "execution_count": null,
   "id": "90a39104",
   "metadata": {},
   "outputs": [],
   "source": [
    "# TODO: implementa aquí\n"
   ]
  },
  {
   "cell_type": "markdown",
   "id": "d82ca5ab",
   "metadata": {},
   "source": [
    "## 11) Bernoulli$(p)$ desde $U(0,1)$"
   ]
  },
  {
   "cell_type": "markdown",
   "id": "fffb2187",
   "metadata": {},
   "source": [
    "Demuestra que $X=\\mathbf{1}_{(0,p]}(U)$ es Bernoulli$(p)$. Implementa `sample_bernoulli(p,n)` y valida media/varianza."
   ]
  },
  {
   "cell_type": "code",
   "execution_count": null,
   "id": "7d690e72",
   "metadata": {},
   "outputs": [],
   "source": [
    "# TODO: implementa aquí\n"
   ]
  },
  {
   "cell_type": "markdown",
   "id": "9895c7d5",
   "metadata": {},
   "source": [
    "## 12) Discreta específica — pmf, cdf, $F^{-1}$"
   ]
  },
  {
   "cell_type": "markdown",
   "id": "87763269",
   "metadata": {},
   "source": [
    "Define una pmf concreta, calcula $E[X]$, $\\mathrm{Var}(X)$ y genera $n$ observaciones por inversión. Compara pmf empírica vs teórica."
   ]
  },
  {
   "cell_type": "code",
   "execution_count": null,
   "id": "797ec820",
   "metadata": {},
   "outputs": [],
   "source": [
    "# TODO: implementa aquí\n"
   ]
  },
  {
   "cell_type": "markdown",
   "id": "0c269700",
   "metadata": {},
   "source": [
    "## 13) Inversión para Binomial, Geométrica y Poisson"
   ]
  },
  {
   "cell_type": "markdown",
   "id": "186e2f5a",
   "metadata": {},
   "source": [
    "Implementa generadores por inversión para:\n",
    "- $X\\sim\\mathrm{Bin}(m,p)$\n",
    "- $X\\sim\\mathrm{Geo}(p)$ con $\\mathbb P(X=k)=p(1-p)^{k-1}$, $k\\ge 1$\n",
    "- $X\\sim\\mathrm{Poisson}(\\lambda)$\n",
    "\n",
    "Prepara celdas de prueba y comparación de pmf empírica vs teórica."
   ]
  },
  {
   "cell_type": "code",
   "execution_count": null,
   "id": "e31ef840",
   "metadata": {},
   "outputs": [],
   "source": [
    "# TODO: implementa aquí\n"
   ]
  },
  {
   "cell_type": "markdown",
   "id": "8e9a4ff6",
   "metadata": {},
   "source": [
    "---\n",
    "\n",
    "### Checklist de entrega\n",
    "- [ ] Demostraciones en MD con notación clara.\n",
    "- [ ] Funciones `sample_*` terminadas y documentadas.\n",
    "- [ ] Gráficas de validación ajustadas.\n",
    "- [ ] Comentarios de diseño y supuestos de parametrización."
   ]
  }
 ],
 "metadata": {},
 "nbformat": 4,
 "nbformat_minor": 5
}
