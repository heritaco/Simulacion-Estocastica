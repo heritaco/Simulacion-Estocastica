{
 "cells": [
  {
   "cell_type": "markdown",
   "id": "0ead438a",
   "metadata": {},
   "source": [
    "# **Generacion Congruencial de Multiplicativos**"
   ]
  },
  {
   "cell_type": "markdown",
   "id": "05a2270b",
   "metadata": {},
   "source": [
    "Sí. Es el **método congruencial multiplicativo** con $a=3$, $m=5$ y semilla $x_0=4$, definido por\n",
    "\n",
    "$$\n",
    "x_n \\equiv a\\,x_{n-1}\\pmod m,\\qquad u_n=\\frac{x_n}{m}.\n",
    "\\;\\; \\text{(“número pseudoaleatorio”)}\n",
    "$$\n",
    "\n",
    "&#x20;\n",
    "\n",
    "### Cálculo “a mano”\n",
    "\n",
    "* $x_0=4$ (dado).\n",
    "* $x_1\\equiv 3\\cdot 4=12\\equiv 12-2\\cdot 5=2\\pmod 5$  $\\Rightarrow u_1=2/5=0.4$\n",
    "* $x_2\\equiv 3\\cdot 2=6\\equiv 6-1\\cdot 5=1\\pmod 5$     $\\Rightarrow u_2=1/5=0.2$\n",
    "* $x_3\\equiv 3\\cdot 1=3\\equiv 3\\pmod 5$               $\\Rightarrow u_3=3/5=0.6$\n",
    "* $x_4\\equiv 3\\cdot 3=9\\equiv 9-1\\cdot 5=4\\pmod 5$    $\\Rightarrow u_4=4/5=0.8$\n",
    "* $x_5\\equiv 3\\cdot 4=12\\equiv 2\\pmod 5$ (se repite el ciclo)\n",
    "\n",
    "### Secuencias resultantes\n",
    "\n",
    "$$\n",
    "(x_n)_{n\\ge 0}:\\; 4,\\,2,\\,1,\\,3,\\,4,\\,2,\\,1,\\,3,\\dots\n",
    "$$\n",
    "\n",
    "$$\n",
    "(u_n)_{n\\ge 1}:\\; 0.4,\\,0.2,\\,0.6,\\,0.8,\\,0.4,\\,0.2,\\,0.6,\\,0.8,\\dots\n",
    "$$\n",
    "\n",
    "**Periodo:** $4=m-1$. Aquí $m$ es primo y $a=3$ tiene orden $4$ módulo $5$, así que, con semilla $x_0\\neq 0$, se recorre todo $\\{1,2,3,4\\}$ antes de repetirse. (Que eventualmente haya repetición está señalado en las transparencias: “a lo más $m$ valores generados, alguno debe repetirse”).&#x20;\n",
    "\n",
    "Si quieres, lo extiendo a un **congruencial lineal mixto** $x_n\\equiv (a x_{n-1}+c)\\bmod m$ y te muestro cómo elegir $a,c,m$ para obtener **periodo completo**.\n"
   ]
  }
 ],
 "metadata": {
  "kernelspec": {
   "display_name": "u",
   "language": "python",
   "name": "python3"
  },
  "language_info": {
   "codemirror_mode": {
    "name": "ipython",
    "version": 3
   },
   "file_extension": ".py",
   "mimetype": "text/x-python",
   "name": "python",
   "nbconvert_exporter": "python",
   "pygments_lexer": "ipython3",
   "version": "3.11.13"
  }
 },
 "nbformat": 4,
 "nbformat_minor": 5
}
