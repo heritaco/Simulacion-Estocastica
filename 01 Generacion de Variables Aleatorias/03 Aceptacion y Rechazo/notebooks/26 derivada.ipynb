{
 "cells": [
  {
   "cell_type": "markdown",
   "id": "253f7a2d",
   "metadata": {},
   "source": [
    "$$\n",
    "\\frac{d}{dx}\\big[x(1-x)^3\\big]=(1-x)^2(1-4x)\n",
    "$$\n",
    "\n",
    "Pasos:\n",
    "\n",
    "1. Regla del producto. Sea $f(x)=x$, $g(x)=(1-x)^3$.\n",
    "\n",
    "$$\n",
    "\\frac{d}{dx}[f g]=f' g+f g'\n",
    "$$\n",
    "\n",
    "2. Derivadas básicas. $f'(x)=1$.\n",
    "\n",
    "3. Regla de la cadena para $g$:\n",
    "\n",
    "$$\n",
    "g'(x)=3(1-x)^2\\cdot\\frac{d}{dx}(1-x)=3(1-x)^2(-1)=-3(1-x)^2\n",
    "$$\n",
    "\n",
    "4. Sustituir:\n",
    "\n",
    "$$\n",
    "1\\cdot(1-x)^3+x\\cdot\\big[-3(1-x)^2\\big]=(1-x)^2\\big[(1-x)-3x\\big]=(1-x)^2(1-4x).\n",
    "$$\n",
    "\n",
    "Opcional, expandido: $\\;1-6x+12x^2-8x^3$.\n"
   ]
  }
 ],
 "metadata": {
  "language_info": {
   "name": "python"
  }
 },
 "nbformat": 4,
 "nbformat_minor": 5
}
